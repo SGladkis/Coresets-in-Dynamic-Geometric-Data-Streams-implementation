{
 "cells": [
  {
   "cell_type": "code",
   "execution_count": null,
   "metadata": {},
   "outputs": [],
   "source": [
    "import numpy as np\n",
    "import sklearn as sk\n",
    "from sklearn import datasets\n",
    "import matplotlib.pyplot as plt\n",
    "import matplotlib.patches as patches\n",
    "from sklearn.cluster import KMeans\n",
    "from sklearn import metrics\n",
    "import math\n",
    "from yellowbrick.cluster import SilhouetteVisualizer\n",
    "from pyclustering.cluster.kmedians import kmedians\n",
    "from matplotlib import cm"
   ]
  },
  {
   "cell_type": "code",
   "execution_count": null,
   "metadata": {},
   "outputs": [],
   "source": [
    "n = 100000"
   ]
  },
  {
   "cell_type": "code",
   "execution_count": null,
   "metadata": {},
   "outputs": [],
   "source": [
    "blobs, blob_labels = sk.datasets.make_blobs(n_samples=n, n_features=2, center_box=(0, 10.0), centers=2, cluster_std=0.5, random_state=1)\n",
    "blobs = blobs.round(3)\n",
    "plt.scatter(blobs[:, 0], blobs[:, 1], c=blob_labels, cmap=\"bwr\", s=2)\n",
    "plt.grid(which='major');"
   ]
  },
  {
   "cell_type": "code",
   "execution_count": null,
   "metadata": {},
   "outputs": [],
   "source": [
    "k = 2\n",
    "d = 2 #0.00005 #0.000005 #0.0000005\n",
    "eps = 0.1\n",
    "X = blobs\n",
    "n_initial = len(X) # the size of the current point set, a.k.a. n is all of the initial points"
   ]
  },
  {
   "cell_type": "code",
   "execution_count": null,
   "metadata": {},
   "outputs": [],
   "source": [
    "def visualize_splitting(Z, c_centers, lines, X, initial_bbox, title=\"Sub-Cell Construction\"):\n",
    "    plt.figure(figsize=(8, 6))\n",
    "\n",
    "    # Plot the initial bounding box\n",
    "    bbox = np.array(initial_bbox)\n",
    "    plt.plot(bbox[:, 0], bbox[:, 1], color='green', linestyle='-', linewidth=1) #label='Initial Bounding Box'\n",
    "\n",
    "    # Plot the original points\n",
    "    plt.scatter(X[:, 0], X[:, 1], color='blue', marker='.', label='Original Points')\n",
    "\n",
    "    # Plot cell centers\n",
    "    centers = np.array(c_centers)\n",
    "    plt.scatter(centers[:, 0], centers[:, 1], color='red', marker='x', label='Cell Centers', s=45)\n",
    "\n",
    "    # Plot the splitting lines\n",
    "    for line in lines:\n",
    "        for rect_coords in line:\n",
    "            rect = patches.Rectangle(\n",
    "                (rect_coords[0][0], rect_coords[1][0]),  # Bottom-left and top-right corner\n",
    "                rect_coords[0][1] - rect_coords[0][0],   # Width\n",
    "                rect_coords[1][1] - rect_coords[1][0],   # Height\n",
    "                edgecolor='green', facecolor='none')\n",
    "            plt.gca().add_patch(rect)\n",
    "\n",
    "    plt.title(title)\n",
    "    plt.axis(\"off\")\n",
    "    plt.legend(loc='upper left', bbox_to_anchor=(0.03, 1.08), frameon=True, framealpha=1, edgecolor='black')\n",
    "    plt.grid(False)\n",
    "    plt.show()"
   ]
  },
  {
   "cell_type": "code",
   "execution_count": null,
   "metadata": {},
   "outputs": [],
   "source": [
    "def recursive_split(X, y, cell, k, d, eps, opt, n_initial, delta, nr_of_cells, cs, i, lines, Z, c_centers, labels):\n",
    "    x1, x2, y1, y2 = cell\n",
    "    points_in_cell = X[(X[:, 0] >= x1) & (X[:, 0] <= x2) & (X[:, 1] >= y1) & (X[:, 1] <= y2)]\n",
    "    labels_in_cell = y[(X[:, 0] >= x1) & (X[:, 0] <= x2) & (X[:, 1] >= y1) & (X[:, 1] <= y2)]\n",
    "\n",
    "    threshold = ((delta)*opt) / pow(2, i)\n",
    "    print(\"Threshold value:\", round(threshold, 5), \"Points in cell:\", len(points_in_cell))\n",
    "    if len(points_in_cell) < threshold:\n",
    "        # If there are less than the threshold number of points, it's a light cell\n",
    "        # First time this is checked, it checks the grid g**i if it is light (step #3)\n",
    "        # Afterwards when it recurs it does step #3.4, marks c as a light cell and adds it to Z\n",
    "        # Also when it recurs it does step #3.5 here (delete c from Y) as the light cell c will no longer be recured\n",
    "        \n",
    "        if len(points_in_cell) >= 1: \n",
    "            #print(\"\\033[1m Points in light cell:\\n\", points_in_cell, \"\\033[0;0m\")\n",
    "            # If c is not empty (this already checks step #4)\n",
    "            Z.append(points_in_cell)\n",
    "            # Save the center coordinates for step #4.1\n",
    "            c_centers.append(((x1 + x2) / 2, (y1 + y2) / 2))\n",
    "            labels.append(labels_in_cell)\n",
    "    else: \n",
    "        #print(\"Current number of cells: \" + str(nr_of_cells))\n",
    "        # Cell counter, each time a cell gets split into 4 subcells the total increases by 3\n",
    "        nr_of_cells = nr_of_cells + 3\n",
    "\n",
    "        # The would-be number of cells if the below code executes\n",
    "        # Does not allow to create more subcells than cs\n",
    "        if i>=0 and len(points_in_cell)!=0:# and i >= np.log(delta * opt)+1: # and nr_of_cells <= cs:\n",
    "        \n",
    "            # Step #3.1 if c is heavy then: Split the cell\n",
    "            # First time this executes - only if g**i is heavy and splits it into 4 sub-cells c1, c2, c3, c4 (step #3)\n",
    "            # Afterwards the level of each cell goes to g**i-1, with side length 2**i-1 with each recursion\n",
    "            i = i - 1\n",
    "            mid_x = (x1 + x2) / 2\n",
    "            mid_y = (y1 + y2) / 2\n",
    "            \n",
    "            lines.append([\n",
    "                ((x1, mid_x), (y1, mid_y)),  # Top-left\n",
    "                ((mid_x, x2), (y1, mid_y)),  # Top-right\n",
    "                ((x1, mid_x), (mid_y, y2)),  # Bottom-left\n",
    "                ((mid_x, x2), (mid_y, y2))])  # Bottom-right\n",
    "            \n",
    "            cells = [\n",
    "                (x1, mid_x, y1, mid_y),  # Top-left\n",
    "                (mid_x, x2, y1, mid_y),  # Top-right\n",
    "                (x1, mid_x, mid_y, y2),  # Bottom-left\n",
    "                (mid_x, x2, mid_y, y2)   # Bottom-right\n",
    "            ]\n",
    "            # Step #3.2 and #3.3 as it implicitly adds c1, c2, c3, c4 to Y with each recursion below\n",
    "            for sub_cell in cells:\n",
    "                recursive_split(points_in_cell, labels_in_cell, sub_cell, k, d, eps, opt, n_initial, delta, nr_of_cells, cs, i, lines,\n",
    "                                Z, c_centers, labels)\n",
    "    return Z, c_centers, lines, labels"
   ]
  },
  {
   "cell_type": "code",
   "execution_count": null,
   "metadata": {},
   "outputs": [],
   "source": [
    "def coreset(Z, rep_c, delta, cs, eps, labels):\n",
    "    # rep_c = c_centers = representative center point of a cell\n",
    "    # n_c = number of  points in each cell\n",
    "    n_c = [len(c) for c in Z]\n",
    "    # S = pairs respective center coordinates with number of points in each cell\n",
    "    S = []\n",
    "    \n",
    "    for index in range(0, len(rep_c)):\n",
    "        unique_labels, counts = np.unique(labels[index], return_counts=True)\n",
    "        majority_label = unique_labels[np.argmax(counts)]\n",
    "        S.append([rep_c[index], n_c[index], majority_label])\n",
    "    #print(rep_c, n_c)\n",
    "    if len(S) > cs*(1+eps) or len(S) == 0:\n",
    "        return None # failure indication\n",
    "    else:\n",
    "        return S"
   ]
  },
  {
   "cell_type": "code",
   "execution_count": null,
   "metadata": {},
   "outputs": [],
   "source": [
    "def coreset_construction(X, y, k, d, eps, n_initial):\n",
    "    \n",
    "    if X.size > 0: \n",
    "        print(\"The array is non-empty, proceeding with coreset construction algorithm\")\n",
    "        \n",
    "        # Step #1: Define the boundaries of the coordinate plane, at the start let Y be the only cell in grid g^(log(D))\n",
    "        x_min, x_max, y_min, y_max = min(X[:, 0]), max(X[:, 0]), min(X[:, 1]), max(X[:, 1])\n",
    "        Y = x_min, x_max, y_min, y_max\n",
    "        \n",
    "        # Calculate delta\n",
    "        #delta below 6 fails to construct coreset\n",
    "        delta = ( 1 / ( (4*k*np.sqrt(d)) * (np.log(n_initial)+1) ) )\n",
    "        if delta < 1: delta = 6\n",
    "        #delta = ( 1 / ( (4*k*np.sqrt(d)) * (np.log(n_initial)+1) ) ) * pow( ( eps / (14*np.sqrt(d)) ), d)\n",
    "        print(\"delta =\", round(delta, 4))\n",
    "        # Calculate coreset size\n",
    "        cs = math.ceil(2/delta + (np.log(n_initial) + 2) * k * pow(2, d))\n",
    "        print(\"cs =\", cs)\n",
    "        DELTA = 6 # take DELTA as an arbitrary constant, lets say 5\n",
    "        # Opt = number of guesses for opt approx., round up: (delta+1) * log_base(1 + eps)(DELTA) * (sqrt(2))\n",
    "        Opt =  math.ceil( (delta+1) * (np.log(np.sqrt(DELTA))/np.log(1 + eps)) * np.sqrt(2) )\n",
    "        print(\"Number of guesses for opt approximation =\", Opt)\n",
    "\n",
    "        for j in range(0, Opt):\n",
    "            print(\"\\nIteration j = \" + str(j) + \", with approximation Opt = (1+eps)^j = \" + str(pow((1+eps), j)) + \"\\n\")\n",
    "            \n",
    "            # Cell counter\n",
    "            nr_of_cells = 1\n",
    "            # i-th iteration tracking for recursive alg\n",
    "            i = DELTA\n",
    "            # Lines defining sub-cell boundries\n",
    "            lines = []\n",
    "            # Step #0: arr to store light cells c\n",
    "            Z = []\n",
    "            # Cell centers\n",
    "            c_centers = []\n",
    "            # Label for each coreset point\n",
    "            labels = []\n",
    "\n",
    "            # Start the recursive splitting, here Opt = (1+eps)^j\n",
    "            Z, c_centers, lines, labels = recursive_split(X, y, Y, k, d, eps, pow((1+eps), j), n_initial,\n",
    "                                                  delta, nr_of_cells, cs, i, lines, Z, c_centers, labels)\n",
    "            # Start the coreset calculation\n",
    "            S = coreset(Z, c_centers, delta, cs, eps, labels)\n",
    "                        \n",
    "            if S is not None:\n",
    "                print(\"\\n Coreset constructed: \\n\", S, \", of size:\", len(S))\n",
    "                \n",
    "                initial_bbox = [[x_min, y_min], [x_max, y_min], [x_max, y_max], [x_min, y_max], [x_min, y_min]]\n",
    "                visualize_splitting(Z, c_centers, lines, X, initial_bbox)\n",
    "                \n",
    "                return S\n",
    "        return \"Coreset could not be constructed\"\n",
    "    else:\n",
    "        return \"The array is empty.\""
   ]
  },
  {
   "cell_type": "code",
   "execution_count": null,
   "metadata": {
    "scrolled": true
   },
   "outputs": [],
   "source": [
    "S = coreset_construction(X, blob_labels, k, d, eps, n_initial)"
   ]
  },
  {
   "cell_type": "markdown",
   "metadata": {},
   "source": [
    "# K medians for blobs"
   ]
  },
  {
   "cell_type": "code",
   "execution_count": null,
   "metadata": {},
   "outputs": [],
   "source": [
    "def plot_kmedians_clusters(X, k, s, x_ticks=None, y_ticks=None, title='K-Medians Clustering'):\n",
    "    '''\n",
    "    Adaptation of code provided in https://www.kaggle.com/code/rafaelsaraivacampos/k-medians-clustering\n",
    "    '''\n",
    "    \n",
    "    kmedians_instance = kmedians(X, X[np.random.permutation(X.shape[0])[:k],:], random_state=42)#seed\n",
    "    kmedians_instance.process()\n",
    "    \n",
    "    clusters = kmedians_instance.get_clusters()\n",
    "    y_kmedians = np.zeros([X.shape[0]])\n",
    "    for i, cluster in enumerate(clusters):\n",
    "        y_kmedians[cluster] = i\n",
    "        \n",
    "    plt.scatter(X[:, 0], X[:, 1], c=y_kmedians, s=s, cmap='bwr')\n",
    "    centers = np.array(kmedians_instance.get_medians())\n",
    "    plt.scatter(centers[:, 0], centers[:, 1], c='black', s=300, alpha=1, marker='X')\n",
    "    plt.title(title)\n",
    "    plt.grid(which='major')\n",
    "    \n",
    "    if x_ticks:\n",
    "        plt.xticks(x_ticks)\n",
    "    if y_ticks:\n",
    "        plt.yticks(y_ticks)\n",
    "    plt.show()\n",
    "    \n",
    "    return kmedians_instance, y_kmedians, centers"
   ]
  },
  {
   "cell_type": "code",
   "execution_count": null,
   "metadata": {},
   "outputs": [],
   "source": [
    "kmedians_instance, y_kmedians, centers = plot_kmedians_clusters(X, k, 2, x_ticks=[-1, 2.5, 6], y_ticks=[2, 5.5, 9])"
   ]
  },
  {
   "cell_type": "code",
   "execution_count": null,
   "metadata": {},
   "outputs": [],
   "source": [
    "def calculate_inertia(data, centroids, labels):\n",
    "    inertia = 0.0\n",
    "    for i in range(len(data)):\n",
    "        cluster_center = centroids[labels[i]]\n",
    "        inertia += np.sum((data[i] - cluster_center) ** 2)\n",
    "    return inertia"
   ]
  },
  {
   "cell_type": "code",
   "execution_count": null,
   "metadata": {},
   "outputs": [],
   "source": [
    "silhouette_score = metrics.silhouette_score(X, y_kmedians, metric='manhattan')\n",
    "inertia = calculate_inertia(X, centers, blob_labels)\n",
    "\n",
    "print(f\"Silhouette Score: {silhouette_score}\") #how well-separated the clusters are\n",
    "print(f\"Inertia: {inertia}\") # how far the points within a cluster are from the center of that cluster."
   ]
  },
  {
   "cell_type": "markdown",
   "metadata": {},
   "source": [
    "# K medians for coreset of blobs"
   ]
  },
  {
   "cell_type": "code",
   "execution_count": null,
   "metadata": {},
   "outputs": [],
   "source": [
    "def weighted_cs(X, weights, labels):\n",
    "    '''Repeat coreset points to create a weighted data representation with labels\n",
    "    '''\n",
    "    weighted_X = np.repeat(X, weights, axis=0)\n",
    "    weighted_labels = np.repeat(labels, weights, axis=0)\n",
    "    \n",
    "    return weighted_X, weighted_labels\n",
    "\n",
    "coreset_array, coreset_labels = weighted_cs(np.array([item[0] for item in S]).reshape(-1, 2),\n",
    "                                              [item[1] for item in S], [label for _, _, label in S])\n",
    "coreset_array[0:5], coreset_labels[0:5]"
   ]
  },
  {
   "cell_type": "code",
   "execution_count": null,
   "metadata": {},
   "outputs": [],
   "source": [
    "coreb_kmedians_instance, coreb_y_kmedians, coreb_centers = plot_kmedians_clusters(coreset_array, k, 5, \n",
    "                                                        x_ticks=[-1, 2.5, 6], y_ticks=[2, 5.5, 9], \n",
    "                                                        title='K-Medians Coreset Clustering')"
   ]
  },
  {
   "cell_type": "code",
   "execution_count": null,
   "metadata": {},
   "outputs": [],
   "source": [
    "silhouette_score = metrics.silhouette_score(coreset_array, coreb_y_kmedians, metric='manhattan')\n",
    "inertia = calculate_inertia(coreset_array, coreb_centers, coreset_labels)\n",
    "\n",
    "print(f\"Silhouette Score: {silhouette_score}\") #how well-separated the clusters are\n",
    "print(f\"Inertia: {inertia}\") # how far the points within a cluster are from the center of that cluster."
   ]
  },
  {
   "cell_type": "markdown",
   "metadata": {},
   "source": [
    "# Half circles (moons)"
   ]
  },
  {
   "cell_type": "code",
   "execution_count": null,
   "metadata": {},
   "outputs": [],
   "source": [
    "moons, moon_labels = sk.datasets.make_moons(n_samples=n, random_state=1, noise = 0.08)\n",
    "moons = moons.round(3)\n",
    "plt.scatter(moons[:, 0], moons[:, 1], c=moon_labels, cmap=\"bwr\", s=8)\n",
    "plt.grid(which='major');"
   ]
  },
  {
   "cell_type": "code",
   "execution_count": null,
   "metadata": {},
   "outputs": [],
   "source": [
    "S_moons = coreset_construction(moons, moon_labels, k, d, eps, len(moons)); "
   ]
  },
  {
   "cell_type": "markdown",
   "metadata": {},
   "source": [
    "# K medians for moons"
   ]
  },
  {
   "cell_type": "code",
   "execution_count": null,
   "metadata": {},
   "outputs": [],
   "source": [
    "moons_kmedians_instance, moons_y_kmedians, moons_centers = plot_kmedians_clusters(moons, k, 2, x_ticks=[-1,0.5,2], y_ticks=[-0.75,0.25,1])"
   ]
  },
  {
   "cell_type": "code",
   "execution_count": null,
   "metadata": {},
   "outputs": [],
   "source": [
    "silhouette_score = metrics.silhouette_score(moons, moons_y_kmedians, metric='manhattan')\n",
    "inertia = calculate_inertia(moons, moons_centers, moon_labels)\n",
    "\n",
    "print(f\"Silhouette Score: {silhouette_score}\") #how well-separated the clusters are\n",
    "print(f\"Inertia: {inertia}\") # how far the points within a cluster are from the center of that cluster."
   ]
  },
  {
   "cell_type": "markdown",
   "metadata": {},
   "source": [
    "# K medians for coreset of moons"
   ]
  },
  {
   "cell_type": "code",
   "execution_count": null,
   "metadata": {},
   "outputs": [],
   "source": [
    "corem_coreset_array, corem_coreset_labels = weighted_cs(np.array([item[0] for item in S_moons]).reshape(-1, 2),\n",
    "                                              [item[1] for item in S_moons], [label for _, _, label in S_moons])"
   ]
  },
  {
   "cell_type": "code",
   "execution_count": null,
   "metadata": {},
   "outputs": [],
   "source": [
    "corem_kmedians_instance, corem_y_kmedians, corem_centers = plot_kmedians_clusters(corem_coreset_array, k, 5, \n",
    "                                                        x_ticks=[-1,0.5,2], y_ticks=[-0.75,0.25,1], \n",
    "                                                        title='K-Medians Coreset Clustering')"
   ]
  },
  {
   "cell_type": "code",
   "execution_count": null,
   "metadata": {},
   "outputs": [],
   "source": [
    "silhouette_score = metrics.silhouette_score(corem_coreset_array, corem_y_kmedians, metric='manhattan')\n",
    "inertia = calculate_inertia(corem_coreset_array, corem_centers, corem_coreset_labels)\n",
    "\n",
    "print(f\"Silhouette Score: {silhouette_score}\") #how well-separated the clusters are\n",
    "print(f\"Inertia: {inertia}\") # how far the points within a cluster are from the center of that cluster."
   ]
  },
  {
   "cell_type": "markdown",
   "metadata": {},
   "source": [
    "# Circles"
   ]
  },
  {
   "cell_type": "code",
   "execution_count": null,
   "metadata": {},
   "outputs": [],
   "source": [
    "circles, circles_labels = sk.datasets.make_circles(n_samples=n, random_state=1, noise = 0.07, factor=0.4)\n",
    "circles = circles.round(3)\n",
    "plt.scatter(circles[:, 0], circles[:, 1], c=circles_labels, cmap=\"bwr\", s=8)\n",
    "plt.grid(which='major');"
   ]
  },
  {
   "cell_type": "code",
   "execution_count": null,
   "metadata": {
    "scrolled": true
   },
   "outputs": [],
   "source": [
    "S_circles = coreset_construction(circles, circles_labels, k, d, eps, len(circles));"
   ]
  },
  {
   "cell_type": "markdown",
   "metadata": {},
   "source": [
    "# K medians for circles"
   ]
  },
  {
   "cell_type": "code",
   "execution_count": null,
   "metadata": {},
   "outputs": [],
   "source": [
    "circles_kmedians_instance, circles_y_kmedians, circles_centers = plot_kmedians_clusters(circles, k, 2, x_ticks=[-1,0,1], y_ticks=[-1,0,1])"
   ]
  },
  {
   "cell_type": "code",
   "execution_count": null,
   "metadata": {},
   "outputs": [],
   "source": [
    "silhouette_score = metrics.silhouette_score(circles, circles_y_kmedians, metric='manhattan')\n",
    "inertia = calculate_inertia(circles, circles_centers, circles_labels)\n",
    "\n",
    "print(f\"Silhouette Score: {silhouette_score}\") #how well-separated the clusters are\n",
    "print(f\"Inertia: {inertia}\") # how far the points within a cluster are from the center of that cluster."
   ]
  },
  {
   "cell_type": "markdown",
   "metadata": {},
   "source": [
    "# K medians for coreset of circles"
   ]
  },
  {
   "cell_type": "code",
   "execution_count": null,
   "metadata": {},
   "outputs": [],
   "source": [
    "corec_coreset_array, corec_coreset_labels = weighted_cs(np.array([item[0] for item in S_circles]).reshape(-1, 2),\n",
    "                                              [item[1] for item in S_circles], [label for _, _, label in S_circles])"
   ]
  },
  {
   "cell_type": "code",
   "execution_count": null,
   "metadata": {},
   "outputs": [],
   "source": [
    "corec_kmedians_instance, corec_y_kmedians, corec_centers = plot_kmedians_clusters(corec_coreset_array, k, 5, \n",
    "                                                        x_ticks=[-1,0,1], y_ticks=[-1,0,1], \n",
    "                                                        title='K-Medians Coreset Clustering')"
   ]
  },
  {
   "cell_type": "code",
   "execution_count": null,
   "metadata": {},
   "outputs": [],
   "source": [
    "silhouette_score = metrics.silhouette_score(corec_coreset_array, corec_y_kmedians, metric='manhattan')\n",
    "inertia = calculate_inertia(corec_coreset_array, corec_centers, corec_coreset_labels)\n",
    "\n",
    "print(f\"Silhouette Score: {silhouette_score}\") #how well-separated the clusters are\n",
    "print(f\"Inertia: {inertia}\") # how far the points within a cluster are from the center of that cluster."
   ]
  },
  {
   "cell_type": "markdown",
   "metadata": {},
   "source": [
    "## Silhouette analysis"
   ]
  },
  {
   "cell_type": "code",
   "execution_count": null,
   "metadata": {},
   "outputs": [],
   "source": [
    "def plot_silhouette_analysis(data, clusterer, cluster_labels, n_clusters, title, ax, core_n=None):\n",
    "    '''\n",
    "    Adaptation of code provided in https://scikit-learn.org/stable/auto_examples/cluster/plot_kmeans_silhouette_analysis.html\n",
    "    '''\n",
    "    ax.set_xlim([-0.3, 0.9])\n",
    "    ax.set_ylim([0, len(cluster_labels) + (n_clusters + 1) * 10])\n",
    "\n",
    "    silhouette_avg = metrics.silhouette_score(data, cluster_labels, metric='manhattan')\n",
    "\n",
    "    sample_silhouette_values = metrics.silhouette_samples(data, cluster_labels)\n",
    "\n",
    "    y_lower = 10\n",
    "    for j in range(n_clusters):\n",
    "        ith_cluster_silhouette_values = sample_silhouette_values[cluster_labels == j]\n",
    "        ith_cluster_silhouette_values.sort()\n",
    "        size_cluster_i = ith_cluster_silhouette_values.shape[0]\n",
    "        y_upper = y_lower + size_cluster_i\n",
    "\n",
    "        color = cm.nipy_spectral(float(j) / n_clusters)\n",
    "        ax.fill_betweenx(\n",
    "            np.arange(y_lower, y_upper),\n",
    "            0,\n",
    "            ith_cluster_silhouette_values,\n",
    "            facecolor=color,\n",
    "            edgecolor=color,\n",
    "            alpha=0.7,\n",
    "        )\n",
    "\n",
    "        ax.text(-0.05, y_lower + 0.5 * size_cluster_i, str(j))\n",
    "        \n",
    "        y_lower = y_upper + 10\n",
    "\n",
    "    if core_n:    \n",
    "        ax.set_title(f\"{title} = {core_n}, k = {n_clusters}\")\n",
    "    else:\n",
    "        ax.set_title(f\"{title} = {data.shape[0]}, k = {n_clusters}\")\n",
    "    \n",
    "    ax.set_xlabel(\"silhouette coefficient values\")\n",
    "    ax.set_ylabel(\"cluster label\")\n",
    "\n",
    "    ax.axvline(x=silhouette_avg, color=\"red\", linestyle=\"--\")\n",
    "\n",
    "    ax.set_yticks([])\n",
    "    ax.set_xticks([-0.1, 0, 0.2, 0.4, 0.6, 0.8, 1])"
   ]
  },
  {
   "cell_type": "code",
   "execution_count": null,
   "metadata": {},
   "outputs": [],
   "source": [
    "# Plots:\n",
    "fig, axs = plt.subplots(2, 3, figsize=(15, 10))\n",
    "axs = axs.ravel()\n",
    "\n",
    "# Original data\n",
    "plot_silhouette_analysis(X, kmedians_instance, y_kmedians, k, \"1. Blobs. Silhouette plot, KMedians n\",  axs[0])\n",
    "plot_silhouette_analysis(moons, moons_kmedians_instance, moons_y_kmedians, k, \"2. Moons. Silhouette plot, KMedians n\",  axs[1])\n",
    "plot_silhouette_analysis(circles, circles_kmedians_instance, circles_y_kmedians, k, \"3. Circles. Silhouette plot, KMedians n\",  axs[2])\n",
    "\n",
    "# Coresets\n",
    "plot_silhouette_analysis(coreset_array, coreb_kmedians_instance, coreb_y_kmedians, k, \"4. Blobs. Silhouette plot, KMedians cs\",  axs[3], np.array(S, dtype=object).shape[0])\n",
    "plot_silhouette_analysis(corem_coreset_array, corem_kmedians_instance, corem_y_kmedians, k, \"5. Moons. Silhouette plot, KMedians cs\",  axs[4], np.array(S_moons, dtype=object).shape[0])\n",
    "plot_silhouette_analysis(corec_coreset_array, corec_kmedians_instance, corec_y_kmedians, k, \"6. Circles. Silhouette plot, KMedians cs\",  axs[5], np.array(S_circles, dtype=object).shape[0])\n",
    "\n",
    "plt.suptitle(f'n = {n}', fontsize=14)\n",
    "plt.tight_layout()\n",
    "plt.show()"
   ]
  }
 ],
 "metadata": {
  "kernelspec": {
   "display_name": "Python 3 (ipykernel)",
   "language": "python",
   "name": "python3"
  },
  "language_info": {
   "codemirror_mode": {
    "name": "ipython",
    "version": 3
   },
   "file_extension": ".py",
   "mimetype": "text/x-python",
   "name": "python",
   "nbconvert_exporter": "python",
   "pygments_lexer": "ipython3",
   "version": "3.8.8"
  }
 },
 "nbformat": 4,
 "nbformat_minor": 1
}
