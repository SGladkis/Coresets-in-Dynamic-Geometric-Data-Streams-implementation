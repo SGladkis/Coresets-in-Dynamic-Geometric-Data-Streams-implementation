{
 "cells": [
  {
   "cell_type": "code",
   "execution_count": 12,
   "id": "70a7ac38",
   "metadata": {},
   "outputs": [],
   "source": [
    "from scipy import stats\n",
    "import numpy as np"
   ]
  },
  {
   "cell_type": "code",
   "execution_count": null,
   "id": "e8778bd8",
   "metadata": {},
   "outputs": [],
   "source": [
    "#kmeans\n",
    "silhouette_scores_original = [0.849, 0.850, 0.850, 0.491, 0.488,0.488,0.329,0.327,0.326]\n",
    "silhouette_scores_coreset = [0.779, 0.773, 0.763, 0.447, 0.455, 0.446, 0.314, 0.319, 0.284]"
   ]
  },
  {
   "cell_type": "code",
   "execution_count": 6,
   "id": "f9caa8f1",
   "metadata": {},
   "outputs": [
    {
     "name": "stdout",
     "output_type": "stream",
     "text": [
      "Paired Samples T-Test:\n",
      "T-statistic: 5.163051985519035\n",
      "P-value: 0.0008604326568714849\n",
      "\n",
      "Wilcoxon Signed-Rank Test:\n",
      "Test Statistic: 0.0\n",
      "P-value: 0.00390625\n"
     ]
    }
   ],
   "source": [
    "# Paired Samples T-Test\n",
    "t_statistic, p_value_ttest = stats.ttest_rel(silhouette_scores_original, silhouette_scores_coreset)\n",
    "\n",
    "# Wilcoxon Signed-Rank Test\n",
    "statistic, p_value_wilcoxon = stats.wilcoxon(silhouette_scores_original, silhouette_scores_coreset)\n",
    "\n",
    "print(\"Paired Samples T-Test:\")\n",
    "print(f\"T-statistic: {t_statistic}\\nP-value: {p_value_ttest}\\n\")\n",
    "\n",
    "print(\"Wilcoxon Signed-Rank Test:\")\n",
    "print(f\"Test Statistic: {statistic}\\nP-value: {p_value_wilcoxon}\")"
   ]
  },
  {
   "cell_type": "code",
   "execution_count": 7,
   "id": "231dfe84",
   "metadata": {},
   "outputs": [],
   "source": [
    "#kmedians\n",
    "silhouette_scores_original = [0.863, 0.864, 0.864, 0.475, 0.469,0.468,0.313,0.327,0.323]\n",
    "silhouette_scores_coreset = [0.854, 0.854, 0.855, 0.458, 0.454, 0.478, 0.308, 0.331,0.341]"
   ]
  },
  {
   "cell_type": "code",
   "execution_count": 8,
   "id": "959b3840",
   "metadata": {},
   "outputs": [
    {
     "name": "stdout",
     "output_type": "stream",
     "text": [
      "Paired Samples T-Test:\n",
      "T-statistic: 0.9296696802013683\n",
      "P-value: 0.37973971963110686\n",
      "\n",
      "Wilcoxon Signed-Rank Test:\n",
      "Test Statistic: 15.0\n",
      "P-value: 0.42578125\n"
     ]
    }
   ],
   "source": [
    "# Paired Samples T-Test\n",
    "t_statistic, p_value_ttest = stats.ttest_rel(silhouette_scores_original, silhouette_scores_coreset)\n",
    "\n",
    "# Wilcoxon Signed-Rank Test\n",
    "statistic, p_value_wilcoxon = stats.wilcoxon(silhouette_scores_original, silhouette_scores_coreset)\n",
    "\n",
    "print(\"Paired Samples T-Test:\")\n",
    "print(f\"T-statistic: {t_statistic}\\nP-value: {p_value_ttest}\\n\")\n",
    "\n",
    "print(\"Wilcoxon Signed-Rank Test:\")\n",
    "print(f\"Test Statistic: {statistic}\\nP-value: {p_value_wilcoxon}\")\n"
   ]
  },
  {
   "cell_type": "code",
   "execution_count": 16,
   "id": "a9aee246",
   "metadata": {},
   "outputs": [],
   "source": [
    "#kmeans\n",
    "# Inertia column values\n",
    "inertia_means = [\n",
    "    505.158, 4999.757, 49767.172,  # Blobs\n",
    "    404.390, 4085.206, 40741.225,  # Moons\n",
    "    387.488, 3873.700, 38832.750   # Circles\n",
    "]\n",
    "\n",
    "# Inertia (cs) column values\n",
    "inertia_cs_means = [\n",
    "    590.815, 5895.388, 59090.073,  # Blobs\n",
    "    421.0139, 4273.773, 41708.335,  # Moons\n",
    "    401.604, 4009.980, 40190.601    # Circles\n",
    "]"
   ]
  },
  {
   "cell_type": "code",
   "execution_count": 17,
   "id": "d191c60e",
   "metadata": {},
   "outputs": [
    {
     "name": "stdout",
     "output_type": "stream",
     "text": [
      "Mean Inertia values:\n",
      "1. 18424.029\n",
      "2. 15076.940\n",
      "3. 14364.646\n",
      "\n",
      "Mean Inertia (cs) values:\n",
      "1. 21858.759\n",
      "2. 15467.707\n",
      "3. 14867.395\n",
      "\n",
      "Overall Mean Inertia: 15955.205\n",
      "Overall Mean Inertia (cs): 17397.954\n"
     ]
    }
   ],
   "source": [
    "# Reshape the 1x9 arrays to 3x3 2D arrays\n",
    "inertia_means = [inertia_means[i:i + 3] for i in range(0, len(inertia_means), 3)]\n",
    "inertia_cs_means = [inertia_cs_means[i:i + 3] for i in range(0, len(inertia_cs_means), 3)]\n",
    "\n",
    "# Convert lists to numpy arrays\n",
    "inertia_means = np.array(inertia_means)\n",
    "inertia_cs_means = np.array(inertia_cs_means)\n",
    "\n",
    "# Calculate mean values for each dataset\n",
    "inertia_means_avg = np.mean(inertia_means, axis=1)\n",
    "inertia_cs_means_avg = np.mean(inertia_cs_means, axis=1)\n",
    "\n",
    "# Calculate overall mean for each 9-length array\n",
    "overall_mean_inertia = np.mean(inertia_means)\n",
    "overall_mean_inertia_cs = np.mean(inertia_cs_means)\n",
    "\n",
    "# Print the results: 1. blobs 2. moons 3. circles\n",
    "print(\"Mean Inertia values:\")\n",
    "for i, mean in enumerate(inertia_means_avg):\n",
    "    print(f\"{i + 1}. {mean:.3f}\")\n",
    "\n",
    "# 1. blobs 2. moons 3. circles\n",
    "print(\"\\nMean Inertia (cs) values:\")\n",
    "for i, mean in enumerate(inertia_cs_means_avg):\n",
    "    print(f\"{i + 1}. {mean:.3f}\")\n",
    "\n",
    "print(\"\\nOverall Mean Inertia: {:.3f}\".format(overall_mean_inertia))\n",
    "print(\"Overall Mean Inertia (cs): {:.3f}\".format(overall_mean_inertia_cs))"
   ]
  },
  {
   "cell_type": "code",
   "execution_count": 18,
   "id": "9cc0634c",
   "metadata": {},
   "outputs": [],
   "source": [
    "# Inertia column values\n",
    "inertia_meds = [\n",
    "    734.814, 331544.713, 3625504.881,   # Blobs\n",
    "    751.726, 8109.958, 76255.850,       # Moons\n",
    "    778.418, 7310.857, 120828.140       # Circles\n",
    "]\n",
    "\n",
    "# Inertia (cs) column values\n",
    "inertia_cs_meds = [\n",
    "    855.303, 396658.558, 106165.091,    # Blobs\n",
    "    2569.011, 22103.381, 334949.150,    # Moons\n",
    "    742.324, 7745.518, 76759.496        # Circles\n",
    "]"
   ]
  },
  {
   "cell_type": "code",
   "execution_count": 19,
   "id": "04e67b76",
   "metadata": {},
   "outputs": [
    {
     "name": "stdout",
     "output_type": "stream",
     "text": [
      "\n",
      "Mean Inertia values (K-Medians):\n",
      "1. 1319261.469\n",
      "2. 28372.511\n",
      "3. 42972.472\n",
      "\n",
      "Mean Inertia (cs) values (K-Medians):\n",
      "1. 167892.984\n",
      "2. 119873.847\n",
      "3. 28415.779\n",
      "\n",
      "Overall Mean Inertia (K-Medians): 463535.484\n",
      "Overall Mean Inertia (cs) (K-Medians): 105394.204\n"
     ]
    }
   ],
   "source": [
    "# Reshape the 1x9 arrays to 3x3 2D arrays\n",
    "inertia_meds = np.array([inertia_meds[i:i + 3] for i in range(0, len(inertia_meds), 3)])\n",
    "inertia_cs_meds = np.array([inertia_cs_meds[i:i + 3] for i in range(0, len(inertia_cs_meds), 3)])\n",
    "\n",
    "# Calculate mean values for each dataset\n",
    "inertia_meds_avg = np.mean(inertia_meds, axis=1)\n",
    "inertia_cs_meds_avg = np.mean(inertia_cs_meds, axis=1)\n",
    "\n",
    "# Calculate overall mean for each 9-length array\n",
    "overall_mean_inertia_meds = np.mean(inertia_meds)\n",
    "overall_mean_inertia_cs_meds = np.mean(inertia_cs_meds)\n",
    "\n",
    "# Print the results for K-Medians 1. blobs 2. moons 3. circles\n",
    "print(\"\\nMean Inertia values (K-Medians):\")\n",
    "for i, mean in enumerate(inertia_meds_avg):\n",
    "    print(f\"{i + 1}. {mean:.3f}\")\n",
    "\n",
    "#1. blobs 2. moons 3. circles\n",
    "print(\"\\nMean Inertia (cs) values (K-Medians):\")\n",
    "for i, mean in enumerate(inertia_cs_meds_avg):\n",
    "    print(f\"{i + 1}. {mean:.3f}\")\n",
    "\n",
    "print(\"\\nOverall Mean Inertia (K-Medians): {:.3f}\".format(overall_mean_inertia_meds))\n",
    "print(\"Overall Mean Inertia (cs) (K-Medians): {:.3f}\".format(overall_mean_inertia_cs_meds))"
   ]
  },
  {
   "cell_type": "code",
   "execution_count": 33,
   "id": "3a644002",
   "metadata": {},
   "outputs": [
    {
     "name": "stdout",
     "output_type": "stream",
     "text": [
      "The percentage difference is: 125.90%\n"
     ]
    }
   ],
   "source": [
    "def calculate_percentage_difference(x, y):\n",
    "    percentage_difference = abs((x - y) / ((x + y) / 2)) * 100\n",
    "    return percentage_difference\n",
    "\n",
    "x = 463535.484\n",
    "y = 105394.204\n",
    "\n",
    "percentage_difference = calculate_percentage_difference(x, y)\n",
    "print(f\"The percentage difference is: {percentage_difference:.2f}%\")"
   ]
  }
 ],
 "metadata": {
  "kernelspec": {
   "display_name": "Python 3 (ipykernel)",
   "language": "python",
   "name": "python3"
  },
  "language_info": {
   "codemirror_mode": {
    "name": "ipython",
    "version": 3
   },
   "file_extension": ".py",
   "mimetype": "text/x-python",
   "name": "python",
   "nbconvert_exporter": "python",
   "pygments_lexer": "ipython3",
   "version": "3.8.8"
  }
 },
 "nbformat": 4,
 "nbformat_minor": 5
}
