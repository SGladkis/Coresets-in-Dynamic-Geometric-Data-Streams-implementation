{
 "cells": [
  {
   "cell_type": "code",
   "execution_count": 1,
   "metadata": {},
   "outputs": [],
   "source": [
    "import numpy as np\n",
    "import sklearn as sk\n",
    "from sklearn import datasets\n",
    "import matplotlib.pyplot as plt\n",
    "import matplotlib.patches as patches"
   ]
  },
  {
   "cell_type": "code",
   "execution_count": 2,
   "metadata": {},
   "outputs": [],
   "source": [
    "blobs, blob_labels = sk.datasets.make_blobs(n_samples=200, n_features=2, center_box=(0, 10.0), centers=2, cluster_std=0.5, random_state=1)\n",
    "blobs = blobs.round(3)"
   ]
  },
  {
   "cell_type": "code",
   "execution_count": 3,
   "metadata": {},
   "outputs": [
    {
     "data": {
      "text/plain": [
       "<matplotlib.collections.PathCollection at 0x14e4c0299a0>"
      ]
     },
     "execution_count": 3,
     "metadata": {},
     "output_type": "execute_result"
    },
    {
     "data": {
      "image/png": "[encoded data removed]",
      "text/plain": [
       "<Figure size 432x288 with 1 Axes>"
      ]
     },
     "metadata": {
      "needs_background": "light"
     },
     "output_type": "display_data"
    }
   ],
   "source": [
    "plt.scatter(blobs[:, 0], blobs[:, 1], c=blob_labels, cmap=\"bwr\")"
   ]
  },
  {
   "cell_type": "code",
   "execution_count": null,
   "metadata": {},
   "outputs": [],
   "source": []
  },
  {
   "cell_type": "code",
   "execution_count": 4,
   "metadata": {},
   "outputs": [],
   "source": [
    "k = 2\n",
    "D = 0.0005\n",
    "eps = 0.1\n",
    "X = blobs\n",
    "alpha = 5 #take alpha as an arbitrary number - constant, lets say 5\n",
    "n_initial = len(X) # n is the size of the current point set, a.k.a. n is all of the initial points\n",
    "Opt = -int(- (alpha+1)*(np.log(np.sqrt(2)) / np.log(1 + eps)) // 1) #rounded up"
   ]
  },
  {
   "cell_type": "code",
   "execution_count": 5,
   "metadata": {},
   "outputs": [],
   "source": [
    "def recursive_split(X, cell, k, D, eps, opt, n_initial, delta, nr_of_cells, cs, lines=[], Z=[], c_centers=[], i=0):\n",
    "    x1, x2, y1, y2 = cell\n",
    "    points_in_cell = X[(X[:, 0] >= x1) & (X[:, 0] < x2) & (X[:, 1] >= y1) & (X[:, 1] < y2)]\n",
    "    \n",
    "    threshold = delta*(opt/pow(2, i))\n",
    "    print(\"Threshold value: \" + str(round(threshold, 5)))\n",
    "    \n",
    "    if len(points_in_cell) < threshold:\n",
    "        # If there are less than the threshold number of points, it's a light cell\n",
    "        # First time this is checked, it checks the grid g**1 if it is light (step #3)\n",
    "        # Afterwards when it recurs it does step #3.4, marks c as a light cell and adds it to Z\n",
    "        # Also when it recurs it does step #3.5 here (delete c from Y) as the light cell c will no longer be recured\n",
    "        \n",
    "        if len(points_in_cell) >= 1: \n",
    "            print(\"Points in light cell:\\n \" + str(points_in_cell))\n",
    "            # If c is not empty (this already checks step #4)\n",
    "            Z.append(points_in_cell)\n",
    "            # Save the center coordinates for step #4.1\n",
    "            c_centers.append(((x1 + x2) / 2, (y1 + y2) / 2))\n",
    "    else: \n",
    "        print(\"Current number of cells: \" + str(nr_of_cells))\n",
    "        # Cell counter, each time a cell gets split into 4 subcells the total increases by 3\n",
    "        nr_of_cells = nr_of_cells + 3\n",
    "\n",
    "        # The would-be number of cells if the below code executes\n",
    "        # Does not allow to create more subcells than cs\n",
    "        if nr_of_cells <= cs: \n",
    "            # Step #3.1 if c is heavy then\n",
    "            # Split the cell\n",
    "            # First time this executes - only if g**1 is heavy and splits it into 4 sub-cells c1, c2, c3, c4 (step #3)\n",
    "            # Afterwards the level of each cell goes to g**i, with side length 2**i with each recursion\n",
    "            i = i + 1\n",
    "            mid_x = (x1 + x2) / 2\n",
    "            mid_y = (y1 + y2) / 2\n",
    "            \n",
    "            lines.append([\n",
    "                ((x1, mid_x), (y1, mid_y)),  # Top-left\n",
    "                ((mid_x, x2), (y1, mid_y)),  # Top-right\n",
    "                ((x1, mid_x), (mid_y, y2)),  # Bottom-left\n",
    "                ((mid_x, x2), (mid_y, y2))])  # Bottom-right\n",
    "            \n",
    "            cells = [\n",
    "                (x1, mid_x, y1, mid_y),  # Top-left\n",
    "                (mid_x, x2, y1, mid_y),  # Top-right\n",
    "                (x1, mid_x, mid_y, y2),  # Bottom-left\n",
    "                (mid_x, x2, mid_y, y2)   # Bottom-right\n",
    "            ]\n",
    "            # Step #3.2 and #3.3 as it implicitly adds c1, c2, c3, c4 to Y with each recursion below\n",
    "            for sub_cell in cells:\n",
    "                recursive_split(points_in_cell, sub_cell, k, D, eps, opt, n_initial, delta, nr_of_cells, cs, lines,\n",
    "                                Z, c_centers, i)\n",
    "\n",
    "    return Z, c_centers, lines"
   ]
  },
  {
   "cell_type": "code",
   "execution_count": 6,
   "metadata": {},
   "outputs": [],
   "source": [
    "def coreset(Z, rep_c, delta, cs, eps):\n",
    "    \n",
    "    # rep_c = c_centers\n",
    "    # Step #4.2: number of  points in each cell\n",
    "    n_c = [len(c) for c in Z]\n",
    "    \n",
    "    # Step #4.3: pair respective center coordinates with number of points in each cell\n",
    "    S = [] #pairs\n",
    "    for index in range(0, len(rep_c)):\n",
    "        S.append([rep_c[index], n_c[index]])\n",
    "    if len(S) > cs*(1+eps):\n",
    "        return None # failure indication\n",
    "    else:\n",
    "        return S"
   ]
  },
  {
   "cell_type": "code",
   "execution_count": 7,
   "metadata": {},
   "outputs": [],
   "source": [
    "def coreset_construction(X, k, D, eps, n_initial):\n",
    "    \n",
    "    if X.size > 0: \n",
    "        print(\"The array is non-empty, proceeding with coreset construction algorithm\")\n",
    "        \n",
    "        # Step #0: empty arr to store light cells c\n",
    "        Z = []\n",
    "        # Store the lines defining sub-cells\n",
    "        lines = []\n",
    "        \n",
    "        # Step #1: Define the boundaries of the coordinate plane, at the start let Y be the only cell in grid g^(log(D))\n",
    "        x_min, x_max, y_min, y_max = min(X[:, 0]), max(X[:, 0]), min(X[:, 1]), max(X[:, 1])\n",
    "        Y = x_min, x_max, y_min, y_max\n",
    "        \n",
    "        # Calculate delta\n",
    "        delta = ((1/(4*k*np.sqrt(D)) * np.log(n_initial+1))) * pow((eps/(14*np.sqrt(D))), D)\n",
    "        print(\"delta = \" + str(delta))\n",
    "        # Calculate coreset size\n",
    "        cs = 2/delta + np.log(n_initial+2)*k*pow(2, D)\n",
    "        print(\"cs = \" + str(cs))\n",
    "\n",
    "        for j in range(0, Opt):\n",
    "            print(\"\\nIteration j = \" + str(j) + \", where the passed Opt = (1+eps)^j = \" + str(pow((1+eps), j)) + \"\\n\")\n",
    "            \n",
    "            # Cell counter\n",
    "            nr_of_cells = 1\n",
    "            \n",
    "            # Start the recursive splitting\n",
    "            # Here Opt = (1+eps)^j\n",
    "            Z, c_centers, lines = recursive_split(X, Y, k, D, eps, pow((1+eps), j), n_initial, delta, nr_of_cells, cs, lines, Z)\n",
    "\n",
    "            # Start the coreset calculation\n",
    "            S = coreset(Z, c_centers, delta, cs, eps)\n",
    "                        \n",
    "            if S is not None:\n",
    "                print(\"\\n Coreset constructed: \\n\", S)\n",
    "                \n",
    "                initial_bbox = [[x_min, y_min], [x_max, y_min], [x_max, y_max], [x_min, y_max], [x_min, y_min]]\n",
    "                visualize_splitting(Z, c_centers, lines, X, initial_bbox)\n",
    "                #print(lines)\n",
    "                \n",
    "                return S\n",
    "        return \"Coreset could not be constructed\"\n",
    "    else:\n",
    "        return \"The array is empty.\""
   ]
  },
  {
   "cell_type": "code",
   "execution_count": 8,
   "metadata": {},
   "outputs": [],
   "source": [
    "def visualize_splitting(Z, c_centers, lines, X, initial_bbox, title=\"Sub-Cell Construction\"):\n",
    "    plt.figure(figsize=(8, 6))\n",
    "\n",
    "    # Plot the initial bounding box\n",
    "    bbox = np.array(initial_bbox)\n",
    "    plt.plot(bbox[:, 0], bbox[:, 1], color='green', linestyle='-', linewidth=1, label='Initial Bounding Box')\n",
    "\n",
    "    # Plot the original points\n",
    "    plt.scatter(X[:, 0], X[:, 1], color='blue', marker='.', label='Original Points')\n",
    "\n",
    "    # Plot points in light cells\n",
    "    #for points_in_cell in Z:\n",
    "    #    cell_points = np.array(points_in_cell)\n",
    "    #    plt.scatter(cell_points[:, 0], cell_points[:, 1], color='orange', marker='.', label='Light Cell')\n",
    "\n",
    "    # Plot cell centers\n",
    "    centers = np.array(c_centers)\n",
    "    plt.scatter(centers[:, 0], centers[:, 1], color='red', marker='x', label='Cell Centers')\n",
    "\n",
    "    # Plot the splitting lines\n",
    "    for line in lines:\n",
    "        for rect_coords in line:\n",
    "            rect = patches.Rectangle(\n",
    "                (rect_coords[0][0], rect_coords[1][0]),  # Bottom-left and top-right corner\n",
    "                rect_coords[0][1] - rect_coords[0][0],   # Width\n",
    "                rect_coords[1][1] - rect_coords[1][0],   # Height\n",
    "                edgecolor='green',\n",
    "                facecolor='none'\n",
    "            )\n",
    "            plt.gca().add_patch(rect)\n",
    "\n",
    "    plt.title(title)\n",
    "    plt.axis(\"off\")\n",
    "    #plt.xlabel('X-axis')\n",
    "    #plt.ylabel('Y-axis')\n",
    "    plt.legend()\n",
    "    plt.grid(False)\n",
    "    plt.show()"
   ]
  },
  {
   "cell_type": "code",
   "execution_count": 9,
   "metadata": {},
   "outputs": [
    {
     "name": "stdout",
     "output_type": "stream",
     "text": [
      "The array is non-empty, proceeding with coreset construction algorithm\n",
      "delta = 29.629464433352798\n",
      "cs = 10.687715819597356\n",
      "\n",
      "Iteration j = 0, where the passed Opt = (1+eps)^j = 1.0\n",
      "\n",
      "Threshold value: 29.62946\n",
      "Current number of cells: 1\n",
      "Threshold value: 14.81473\n",
      "Current number of cells: 4\n",
      "Threshold value: 7.40737\n",
      "Current number of cells: 7\n",
      "Threshold value: 3.70368\n",
      "Points in light cell:\n",
      " [[-0.665  2.143]\n",
      " [-1.252  1.966]\n",
      " [-1.017  2.052]]\n",
      "Threshold value: 3.70368\n",
      "Current number of cells: 10\n",
      "Threshold value: 3.70368\n",
      "Current number of cells: 10\n",
      "Threshold value: 3.70368\n",
      "Current number of cells: 10\n",
      "Threshold value: 7.40737\n",
      "Current number of cells: 7\n",
      "Threshold value: 3.70368\n",
      "Points in light cell:\n",
      " [[0.906 2.37 ]\n",
      " [1.034 2.288]]\n",
      "Threshold value: 3.70368\n",
      "Threshold value: 3.70368\n",
      "Current number of cells: 10\n",
      "Threshold value: 3.70368\n",
      "Threshold value: 7.40737\n",
      "Current number of cells: 7\n",
      "Threshold value: 3.70368\n",
      "Current number of cells: 10\n",
      "Threshold value: 3.70368\n",
      "Current number of cells: 10\n",
      "Threshold value: 3.70368\n",
      "Points in light cell:\n",
      " [[-0.609  4.248]]\n",
      "Threshold value: 3.70368\n",
      "Threshold value: 7.40737\n",
      "Points in light cell:\n",
      " [[0.919 3.306]\n",
      " [0.419 3.795]\n",
      " [1.517 3.436]\n",
      " [0.332 3.919]\n",
      " [1.027 3.316]\n",
      " [0.381 3.466]\n",
      " [0.506 3.483]]\n",
      "Threshold value: 14.81473\n",
      "Threshold value: 14.81473\n",
      "Threshold value: 14.81473\n",
      "Current number of cells: 4\n",
      "Threshold value: 7.40737\n",
      "Threshold value: 7.40737\n",
      "Current number of cells: 7\n",
      "Threshold value: 3.70368\n",
      "Threshold value: 3.70368\n",
      "Threshold value: 3.70368\n",
      "Current number of cells: 10\n",
      "Threshold value: 3.70368\n",
      "Current number of cells: 10\n",
      "Threshold value: 7.40737\n",
      "Current number of cells: 7\n",
      "Threshold value: 3.70368\n",
      "Threshold value: 3.70368\n",
      "Current number of cells: 10\n",
      "Threshold value: 3.70368\n",
      "Threshold value: 3.70368\n",
      "Current number of cells: 10\n",
      "Threshold value: 7.40737\n",
      "Current number of cells: 7\n",
      "Threshold value: 3.70368\n",
      "Current number of cells: 10\n",
      "Threshold value: 3.70368\n",
      "Current number of cells: 10\n",
      "Threshold value: 3.70368\n",
      "Current number of cells: 10\n",
      "Threshold value: 3.70368\n",
      "Current number of cells: 10\n",
      "\n",
      " Coreset constructed: \n",
      " [[(-0.9681875, 2.0485625), 3], [(0.7390624999999998, 2.0485625), 2], [(-0.9681875, 4.5479375), 1], [(1.1658749999999998, 4.131375), 7]]\n"
     ]
    },
    {
     "data": {
      "image/png": "[encoded data removed]",
      "text/plain": [
       "<Figure size 576x432 with 1 Axes>"
      ]
     },
     "metadata": {
      "needs_background": "light"
     },
     "output_type": "display_data"
    }
   ],
   "source": [
    "coreset_construction(X, k, D, eps, n_initial);"
   ]
  },
  {
   "cell_type": "code",
   "execution_count": 10,
   "metadata": {},
   "outputs": [],
   "source": [
    "#((x1, mid_x), (y1, mid_y)),  # Top-left\n",
    "#((mid_x, x2), (y1, mid_y)),  # Top-right\n",
    "#((x1, mid_x), (mid_y, y2)),  # Bottom-left\n",
    "#((mid_x, x2), (mid_y, y2))]) # Bottom-right"
   ]
  }
 ],
 "metadata": {
  "kernelspec": {
   "display_name": "Python 3 (ipykernel)",
   "language": "python",
   "name": "python3"
  },
  "language_info": {
   "codemirror_mode": {
    "name": "ipython",
    "version": 3
   },
   "file_extension": ".py",
   "mimetype": "text/x-python",
   "name": "python",
   "nbconvert_exporter": "python",
   "pygments_lexer": "ipython3",
   "version": "3.8.8"
  }
 },
 "nbformat": 4,
 "nbformat_minor": 1
}
