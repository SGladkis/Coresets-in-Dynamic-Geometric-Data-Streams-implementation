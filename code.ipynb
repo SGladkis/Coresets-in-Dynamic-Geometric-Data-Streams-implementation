{
 "cells": [
  {
   "cell_type": "code",
   "execution_count": 1,
   "metadata": {},
   "outputs": [],
   "source": [
    "import numpy as np\n",
    "import sklearn as sk\n",
    "from sklearn import datasets\n",
    "import matplotlib.pyplot as plt\n",
    "import matplotlib.patches as patches"
   ]
  },
  {
   "cell_type": "code",
   "execution_count": 354,
   "metadata": {},
   "outputs": [],
   "source": [
    "blobs, blob_labels = sk.datasets.make_blobs(n_samples=200, n_features=2, center_box=(0, 10.0), centers=2, cluster_std=0.5, random_state=1)\n",
    "blobs = blobs.round(3)"
   ]
  },
  {
   "cell_type": "code",
   "execution_count": 355,
   "metadata": {},
   "outputs": [
    {
     "data": {
      "text/plain": [
       "<matplotlib.collections.PathCollection at 0x14fb095a880>"
      ]
     },
     "execution_count": 355,
     "metadata": {},
     "output_type": "execute_result"
    },
    {
     "data": {
      "image/png": "[encoded data removed]",
      "text/plain": [
       "<Figure size 432x288 with 1 Axes>"
      ]
     },
     "metadata": {
      "needs_background": "light"
     },
     "output_type": "display_data"
    }
   ],
   "source": [
    "plt.scatter(blobs[:, 0], blobs[:, 1], c=blob_labels, cmap=\"bwr\", s=8)"
   ]
  },
  {
   "cell_type": "code",
   "execution_count": 356,
   "metadata": {},
   "outputs": [
    {
     "name": "stdout",
     "output_type": "stream",
     "text": [
      "22\n"
     ]
    }
   ],
   "source": [
    "k = 2\n",
    "D = 0.000000985\n",
    "eps = 0.1\n",
    "X = blobs\n",
    "alpha = 5 #take alpha as an arbitrary number - constant, lets say 5\n",
    "n_initial = len(X) # n is the size of the current point set, a.k.a. n is all of the initial points\n",
    "Opt = -int(- (alpha+1) * (np.log(np.sqrt(2)) / np.log(1 + eps)) // 1) #rounded up, number of guesses\n",
    "print(Opt)"
   ]
  },
  {
   "cell_type": "code",
   "execution_count": 357,
   "metadata": {},
   "outputs": [],
   "source": [
    "def visualize_splitting(Z, c_centers, lines, X, initial_bbox, title=\"Sub-Cell Construction\"):\n",
    "    plt.figure(figsize=(8, 6))\n",
    "\n",
    "    # Plot the initial bounding box\n",
    "    bbox = np.array(initial_bbox)\n",
    "    plt.plot(bbox[:, 0], bbox[:, 1], color='green', linestyle='-', linewidth=1, label='Initial Bounding Box')\n",
    "\n",
    "    # Plot the original points\n",
    "    plt.scatter(X[:, 0], X[:, 1], color='blue', marker='.', label='Original Points')\n",
    "\n",
    "    # Plot points in light cells\n",
    "    #for points_in_cell in Z:\n",
    "    #    cell_points = np.array(points_in_cell)\n",
    "    #    plt.scatter(cell_points[:, 0], cell_points[:, 1], color='orange', marker='.', label='Light Cell')\n",
    "\n",
    "    # Plot cell centers\n",
    "    centers = np.array(c_centers)\n",
    "    plt.scatter(centers[:, 0], centers[:, 1], color='red', marker='x', label='Cell Centers')\n",
    "\n",
    "    # Plot the splitting lines\n",
    "    for line in lines:\n",
    "        for rect_coords in line:\n",
    "            rect = patches.Rectangle(\n",
    "                (rect_coords[0][0], rect_coords[1][0]),  # Bottom-left and top-right corner\n",
    "                rect_coords[0][1] - rect_coords[0][0],   # Width\n",
    "                rect_coords[1][1] - rect_coords[1][0],   # Height\n",
    "                edgecolor='green',\n",
    "                facecolor='none'\n",
    "            )\n",
    "            plt.gca().add_patch(rect)\n",
    "\n",
    "    plt.title(title)\n",
    "    plt.axis(\"off\")\n",
    "    #plt.xlabel('X-axis')\n",
    "    #plt.ylabel('Y-axis')\n",
    "    plt.legend()\n",
    "    plt.grid(False)\n",
    "    plt.show()"
   ]
  },
  {
   "cell_type": "code",
   "execution_count": 358,
   "metadata": {},
   "outputs": [],
   "source": [
    "def recursive_split(X, cell, k, D, eps, opt, n_initial, delta, nr_of_cells, cs, i, lines=[], Z=[], c_centers=[]):\n",
    "    x1, x2, y1, y2 = cell\n",
    "    points_in_cell = X[(X[:, 0] >= x1) & (X[:, 0] < x2) & (X[:, 1] >= y1) & (X[:, 1] < y2)]\n",
    "    \n",
    "    threshold = delta*opt / pow(2, 1/(i+1))  # temp pow(2, i)  pow(2, 1/(i+1))\n",
    "    print(\"Threshold value:\", round(threshold, 5), \"Points in cell:\", len(points_in_cell))\n",
    "    if len(points_in_cell) < threshold:\n",
    "        # If there are less than the threshold number of points, it's a light cell\n",
    "        # First time this is checked, it checks the grid g**1 if it is light (step #3)\n",
    "        # Afterwards when it recurs it does step #3.4, marks c as a light cell and adds it to Z\n",
    "        # Also when it recurs it does step #3.5 here (delete c from Y) as the light cell c will no longer be recured\n",
    "        \n",
    "        if len(points_in_cell) >= 1: \n",
    "            print(\"\\033[1m Points in light cell:\\n\", points_in_cell, \"\\033[0;0m\")\n",
    "            # If c is not empty (this already checks step #4)\n",
    "            Z.append(points_in_cell)\n",
    "            # Save the center coordinates for step #4.1\n",
    "            c_centers.append(((x1 + x2) / 2, (y1 + y2) / 2))\n",
    "    else: \n",
    "        print(\"Current number of cells: \" + str(nr_of_cells))\n",
    "        # Cell counter, each time a cell gets split into 4 subcells the total increases by 3\n",
    "        nr_of_cells = nr_of_cells + 3\n",
    "\n",
    "        # The would-be number of cells if the below code executes\n",
    "        # Does not allow to create more subcells than cs\n",
    "        if nr_of_cells <= cs and (i+1 < np.log(delta * opt) + 1):    \n",
    "            # Step #3.1 if c is heavy then\n",
    "            # Split the cell\n",
    "            # First time this executes - only if g**1 is heavy and splits it into 4 sub-cells c1, c2, c3, c4 (step #3)\n",
    "            # Afterwards the level of each cell goes to g**i, with side length 2**i with each recursion\n",
    "            i = i + 1\n",
    "            mid_x = (x1 + x2) / 2\n",
    "            mid_y = (y1 + y2) / 2\n",
    "            \n",
    "            lines.append([\n",
    "                ((x1, mid_x), (y1, mid_y)),  # Top-left\n",
    "                ((mid_x, x2), (y1, mid_y)),  # Top-right\n",
    "                ((x1, mid_x), (mid_y, y2)),  # Bottom-left\n",
    "                ((mid_x, x2), (mid_y, y2))])  # Bottom-right\n",
    "            \n",
    "            cells = [\n",
    "                (x1, mid_x, y1, mid_y),  # Top-left\n",
    "                (mid_x, x2, y1, mid_y),  # Top-right\n",
    "                (x1, mid_x, mid_y, y2),  # Bottom-left\n",
    "                (mid_x, x2, mid_y, y2)   # Bottom-right\n",
    "            ]\n",
    "            # Step #3.2 and #3.3 as it implicitly adds c1, c2, c3, c4 to Y with each recursion below\n",
    "            for sub_cell in cells:\n",
    "                recursive_split(points_in_cell, sub_cell, k, D, eps, opt, n_initial, delta, nr_of_cells, cs, i, lines,\n",
    "                                Z, c_centers)\n",
    "    return Z, c_centers, lines"
   ]
  },
  {
   "cell_type": "code",
   "execution_count": 359,
   "metadata": {},
   "outputs": [],
   "source": [
    "def coreset(Z, rep_c, delta, cs, eps):\n",
    "    \n",
    "    # rep_c = c_centers\n",
    "    # Step #4.2: number of  points in each cell\n",
    "    n_c = [len(c) for c in Z]\n",
    "    \n",
    "    # Step #4.3: pair respective center coordinates with number of points in each cell\n",
    "    S = [] #pairs\n",
    "    for index in range(0, len(rep_c)):\n",
    "        S.append([rep_c[index], n_c[index]])\n",
    "    #print(rep_c, n_c)\n",
    "    if len(S) > cs*(1+eps):\n",
    "        return None # failure indication\n",
    "    else:\n",
    "        return S"
   ]
  },
  {
   "cell_type": "code",
   "execution_count": 360,
   "metadata": {},
   "outputs": [],
   "source": [
    "def coreset_construction(X, k, D, eps, n_initial):\n",
    "    \n",
    "    if X.size > 0: \n",
    "        print(\"The array is non-empty, proceeding with coreset construction algorithm\")\n",
    "        \n",
    "        # Step #0: empty arr to store light cells c\n",
    "        Z = []\n",
    "        # Arr to store the lines defining sub-cells\n",
    "        lines = []\n",
    "        \n",
    "        # Step #1: Define the boundaries of the coordinate plane, at the start let Y be the only cell in grid g^(log(D))\n",
    "        x_min, x_max, y_min, y_max = min(X[:, 0]), max(X[:, 0]), min(X[:, 1]), max(X[:, 1])\n",
    "        Y = x_min, x_max, y_min, y_max\n",
    "        \n",
    "        # Calculate delta\n",
    "        delta = ( 1 / ( (4*k*np.sqrt(D)) * (np.log(n_initial)+1) ) ) * pow( ( eps / (14*np.sqrt(D)) ), D)\n",
    "        print(\"delta =\", round(delta, 5))\n",
    "        # Calculate coreset size\n",
    "        cs = 2/delta + (np.log(n_initial) + 2) * k * pow(2, D)\n",
    "        print(\"cs =\", round(cs, 5))\n",
    "\n",
    "        for j in range(0, Opt):\n",
    "        #for j in range(Opt, -1, -1):\n",
    "            print(\"\\nIteration j = \" + str(j) + \", with approximation Opt = (1+eps)^j = \" + str(pow((1+eps), j)) + \"\\n\")\n",
    "            \n",
    "            # Cell counter\n",
    "            nr_of_cells = 1\n",
    "            \n",
    "            # i-th iteration tracking for recursive alg\n",
    "            i=0\n",
    "            \n",
    "            # Start the recursive splitting\n",
    "            # Here Opt = (1+eps)^j\n",
    "            Z, c_centers, lines = recursive_split(X, Y, k, D, eps, pow((1+eps), j), n_initial,\n",
    "                                                  delta, nr_of_cells, cs, i, lines, Z)\n",
    "\n",
    "            # Start the coreset calculation\n",
    "            S = coreset(Z, c_centers, delta, cs, eps)\n",
    "                        \n",
    "            if S is not None:\n",
    "                print(\"\\n Coreset constructed: \\n\", S)\n",
    "                \n",
    "                initial_bbox = [[x_min, y_min], [x_max, y_min], [x_max, y_max], [x_min, y_max], [x_min, y_min]]\n",
    "                visualize_splitting(Z, c_centers, lines, X, initial_bbox)\n",
    "                #print(lines)\n",
    "                \n",
    "                return S\n",
    "        return \"Coreset could not be constructed\"\n",
    "    else:\n",
    "        return \"The array is empty.\""
   ]
  },
  {
   "cell_type": "code",
   "execution_count": 361,
   "metadata": {},
   "outputs": [
    {
     "name": "stdout",
     "output_type": "stream",
     "text": [
      "The array is non-empty, proceeding with coreset construction algorithm\n",
      "delta = 19.99715\n",
      "cs = 14.69666\n",
      "\n",
      "Iteration j = 0, with approximation Opt = (1+eps)^j = 1.0\n",
      "\n",
      "Threshold value: 9.99858 Points in cell: 198\n",
      "Current number of cells: 1\n",
      "Threshold value: 14.14012 Points in cell: 100\n",
      "Current number of cells: 4\n",
      "Threshold value: 15.87175 Points in cell: 51\n",
      "Current number of cells: 7\n",
      "Threshold value: 16.81554 Points in cell: 3\n",
      "\u001b[1m Points in light cell:\n",
      " [[-0.665  2.143]\n",
      " [-1.252  1.966]\n",
      " [-1.017  2.052]] \u001b[0;0m\n",
      "Threshold value: 16.81554 Points in cell: 6\n",
      "\u001b[1m Points in light cell:\n",
      " [[-0.162  2.352]\n",
      " [ 0.232  2.435]\n",
      " [ 0.     2.325]\n",
      " [-0.059  2.407]\n",
      " [ 0.259  1.632]\n",
      " [ 0.054  2.26 ]] \u001b[0;0m\n",
      "Threshold value: 16.81554 Points in cell: 6\n",
      "\u001b[1m Points in light cell:\n",
      " [[-0.59   2.69 ]\n",
      " [-0.824  2.578]\n",
      " [-0.652  3.062]\n",
      " [-0.971  3.2  ]\n",
      " [-0.557  3.064]\n",
      " [-0.768  2.799]] \u001b[0;0m\n",
      "Threshold value: 16.81554 Points in cell: 36\n",
      "Current number of cells: 10\n",
      "Threshold value: 15.87175 Points in cell: 15\n",
      "\u001b[1m Points in light cell:\n",
      " [[0.906 2.37 ]\n",
      " [0.558 2.73 ]\n",
      " [0.727 2.714]\n",
      " [0.328 2.998]\n",
      " [0.399 2.836]\n",
      " [0.81  3.275]\n",
      " [0.781 3.078]\n",
      " [1.034 2.288]\n",
      " [0.427 3.041]\n",
      " [0.563 3.176]\n",
      " [0.428 2.817]\n",
      " [0.696 2.693]\n",
      " [0.313 2.806]\n",
      " [1.07  2.631]\n",
      " [0.705 3.088]] \u001b[0;0m\n",
      "Threshold value: 15.87175 Points in cell: 27\n",
      "Current number of cells: 7\n",
      "Threshold value: 16.81554 Points in cell: 8\n",
      "\u001b[1m Points in light cell:\n",
      " [[-0.935  3.484]\n",
      " [-1.395  3.992]\n",
      " [-0.617  3.461]\n",
      " [-0.558  4.001]\n",
      " [-0.712  3.907]\n",
      " [-0.719  3.639]\n",
      " [-0.877  3.381]\n",
      " [-0.836  3.436]] \u001b[0;0m\n",
      "Threshold value: 16.81554 Points in cell: 18\n",
      "Current number of cells: 10\n",
      "Threshold value: 16.81554 Points in cell: 1\n",
      "\u001b[1m Points in light cell:\n",
      " [[-0.609  4.248]] \u001b[0;0m\n",
      "Threshold value: 16.81554 Points in cell: 0\n",
      "Threshold value: 15.87175 Points in cell: 7\n",
      "\u001b[1m Points in light cell:\n",
      " [[0.919 3.306]\n",
      " [0.419 3.795]\n",
      " [1.517 3.436]\n",
      " [0.332 3.919]\n",
      " [1.027 3.316]\n",
      " [0.381 3.466]\n",
      " [0.506 3.483]] \u001b[0;0m\n",
      "Threshold value: 14.14012 Points in cell: 0\n",
      "Threshold value: 14.14012 Points in cell: 0\n",
      "Threshold value: 14.14012 Points in cell: 98\n",
      "Current number of cells: 4\n",
      "Threshold value: 15.87175 Points in cell: 0\n",
      "Threshold value: 15.87175 Points in cell: 9\n",
      "\u001b[1m Points in light cell:\n",
      " [[4.5   6.39 ]\n",
      " [4.151 6.395]\n",
      " [4.015 5.986]\n",
      " [4.345 6.547]\n",
      " [5.266 6.255]\n",
      " [4.901 6.173]\n",
      " [4.603 6.052]\n",
      " [4.328 6.192]\n",
      " [5.263 6.505]] \u001b[0;0m\n",
      "Threshold value: 15.87175 Points in cell: 10\n",
      "\u001b[1m Points in light cell:\n",
      " [[3.612 7.32 ]\n",
      " [3.555 7.479]\n",
      " [3.448 6.951]\n",
      " [3.484 7.361]\n",
      " [3.571 7.635]\n",
      " [3.62  7.776]\n",
      " [3.623 7.288]\n",
      " [3.534 7.36 ]\n",
      " [3.599 7.029]\n",
      " [3.241 7.821]] \u001b[0;0m\n",
      "Threshold value: 15.87175 Points in cell: 79\n",
      "Current number of cells: 7\n",
      "Threshold value: 16.81554 Points in cell: 41\n",
      "Current number of cells: 10\n",
      "Threshold value: 16.81554 Points in cell: 11\n",
      "\u001b[1m Points in light cell:\n",
      " [[4.737 6.653]\n",
      " [4.75  7.388]\n",
      " [4.731 7.408]\n",
      " [4.984 7.372]\n",
      " [4.836 7.06 ]\n",
      " [5.043 6.823]\n",
      " [4.621 6.861]\n",
      " [4.77  7.296]\n",
      " [4.593 6.773]\n",
      " [4.663 7.31 ]\n",
      " [4.621 7.454]] \u001b[0;0m\n",
      "Threshold value: 16.81554 Points in cell: 21\n",
      "Current number of cells: 10\n",
      "Threshold value: 16.81554 Points in cell: 6\n",
      "\u001b[1m Points in light cell:\n",
      " [[4.59  7.669]\n",
      " [5.123 7.759]\n",
      " [4.736 7.963]\n",
      " [5.    7.574]\n",
      " [4.605 7.578]\n",
      " [4.807 8.187]] \u001b[0;0m\n",
      "\n",
      " Coreset constructed: \n",
      " [[(-0.9681875, 2.0485625), 3], [(-0.11456250000000007, 2.0485625), 6], [(-0.9681875, 2.8816875), 6], [(1.1658749999999998, 2.465125), 15], [(-0.9681875, 3.7148125), 8], [(-0.9681875, 4.5479375), 1], [(1.1658749999999998, 4.131375), 7], [(4.580375, 5.797625), 9], [(2.873125, 7.463875000000001), 10], [(5.007187500000001, 7.0473125), 11], [(5.007187500000001, 7.880437500000001), 6]]\n"
     ]
    },
    {
     "data": {
      "image/png": "[encoded data removed]",
      "text/plain": [
       "<Figure size 576x432 with 1 Axes>"
      ]
     },
     "metadata": {
      "needs_background": "light"
     },
     "output_type": "display_data"
    },
    {
     "data": {
      "text/plain": [
       "[[(-0.9681875, 2.0485625), 3],\n",
       " [(-0.11456250000000007, 2.0485625), 6],\n",
       " [(-0.9681875, 2.8816875), 6],\n",
       " [(1.1658749999999998, 2.465125), 15],\n",
       " [(-0.9681875, 3.7148125), 8],\n",
       " [(-0.9681875, 4.5479375), 1],\n",
       " [(1.1658749999999998, 4.131375), 7],\n",
       " [(4.580375, 5.797625), 9],\n",
       " [(2.873125, 7.463875000000001), 10],\n",
       " [(5.007187500000001, 7.0473125), 11],\n",
       " [(5.007187500000001, 7.880437500000001), 6]]"
      ]
     },
     "execution_count": 361,
     "metadata": {},
     "output_type": "execute_result"
    }
   ],
   "source": [
    "coreset_construction(X, k, D, eps, n_initial)"
   ]
  },
  {
   "cell_type": "code",
   "execution_count": 345,
   "metadata": {},
   "outputs": [
    {
     "data": {
      "text/plain": [
       "17.411011265922482"
      ]
     },
     "execution_count": 345,
     "metadata": {},
     "output_type": "execute_result"
    }
   ],
   "source": [
    "20*(1/pow(2, 1/5))"
   ]
  },
  {
   "cell_type": "code",
   "execution_count": 68,
   "metadata": {},
   "outputs": [],
   "source": [
    "#((x1, mid_x), (y1, mid_y)),  # Top-left\n",
    "#((mid_x, x2), (y1, mid_y)),  # Top-right\n",
    "#((x1, mid_x), (mid_y, y2)),  # Bottom-left\n",
    "#((mid_x, x2), (mid_y, y2))]) # Bottom-right"
   ]
  },
  {
   "cell_type": "code",
   "execution_count": null,
   "metadata": {},
   "outputs": [],
   "source": [
    "# 2nd visualization with only coreset centers\n",
    "#opt, adjust stopping condition\n",
    "#2 moon\n",
    "#2circle"
   ]
  }
 ],
 "metadata": {
  "kernelspec": {
   "display_name": "Python 3 (ipykernel)",
   "language": "python",
   "name": "python3"
  },
  "language_info": {
   "codemirror_mode": {
    "name": "ipython",
    "version": 3
   },
   "file_extension": ".py",
   "mimetype": "text/x-python",
   "name": "python",
   "nbconvert_exporter": "python",
   "pygments_lexer": "ipython3",
   "version": "3.8.8"
  }
 },
 "nbformat": 4,
 "nbformat_minor": 1
}
