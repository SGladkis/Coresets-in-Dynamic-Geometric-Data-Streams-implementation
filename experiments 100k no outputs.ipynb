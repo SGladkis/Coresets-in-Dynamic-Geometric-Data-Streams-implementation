{
 "cells": [
  {
   "cell_type": "code",
   "execution_count": null,
   "metadata": {},
   "outputs": [],
   "source": [
    "import numpy as np\n",
    "import sklearn as sk\n",
    "from sklearn import datasets\n",
    "import matplotlib.pyplot as plt\n",
    "import matplotlib.patches as patches\n",
    "from sklearn.cluster import KMeans\n",
    "from sklearn import metrics\n",
    "import math\n",
    "from yellowbrick.cluster import SilhouetteVisualizer"
   ]
  },
  {
   "cell_type": "code",
   "execution_count": null,
   "metadata": {},
   "outputs": [],
   "source": [
    "n = 100000"
   ]
  },
  {
   "cell_type": "code",
   "execution_count": null,
   "metadata": {},
   "outputs": [],
   "source": [
    "blobs, blob_labels = sk.datasets.make_blobs(n_samples=n, n_features=2, center_box=(0, 10.0), centers=2, cluster_std=0.5, random_state=1)\n",
    "blobs = blobs.round(3)\n",
    "plt.scatter(blobs[:, 0], blobs[:, 1], c=blob_labels, cmap=\"bwr\", s=2)\n",
    "plt.grid(which='major');"
   ]
  },
  {
   "cell_type": "code",
   "execution_count": null,
   "metadata": {},
   "outputs": [],
   "source": [
    "k = 2\n",
    "d = 2 #0.00005 #0.000005 #0.0000005\n",
    "eps = 0.1\n",
    "X = blobs\n",
    "n_initial = len(X) # the size of the current point set, a.k.a. n is all of the initial points"
   ]
  },
  {
   "cell_type": "code",
   "execution_count": null,
   "metadata": {},
   "outputs": [],
   "source": [
    "def visualize_splitting(Z, c_centers, lines, X, initial_bbox, title=\"Sub-Cell Construction\"):\n",
    "    plt.figure(figsize=(8, 6))\n",
    "\n",
    "    # Plot the initial bounding box\n",
    "    bbox = np.array(initial_bbox)\n",
    "    plt.plot(bbox[:, 0], bbox[:, 1], color='green', linestyle='-', linewidth=1) #label='Initial Bounding Box'\n",
    "\n",
    "    # Plot the original points\n",
    "    plt.scatter(X[:, 0], X[:, 1], color='blue', marker='.', label='Original Points')\n",
    "\n",
    "    # Plot cell centers\n",
    "    centers = np.array(c_centers)\n",
    "    plt.scatter(centers[:, 0], centers[:, 1], color='red', marker='x', label='Cell Centers', s=45)\n",
    "\n",
    "    # Plot the splitting lines\n",
    "    for line in lines:\n",
    "        for rect_coords in line:\n",
    "            rect = patches.Rectangle(\n",
    "                (rect_coords[0][0], rect_coords[1][0]),  # Bottom-left and top-right corner\n",
    "                rect_coords[0][1] - rect_coords[0][0],   # Width\n",
    "                rect_coords[1][1] - rect_coords[1][0],   # Height\n",
    "                edgecolor='green', facecolor='none')\n",
    "            plt.gca().add_patch(rect)\n",
    "\n",
    "    plt.title(title)\n",
    "    plt.axis(\"off\")\n",
    "    plt.legend(loc='upper left', bbox_to_anchor=(0.03, 1.08), frameon=True, framealpha=1, edgecolor='black')\n",
    "    plt.grid(False)\n",
    "    plt.show()"
   ]
  },
  {
   "cell_type": "code",
   "execution_count": null,
   "metadata": {},
   "outputs": [],
   "source": [
    "def recursive_split(X, cell, k, d, eps, opt, n_initial, delta, nr_of_cells, cs, i, lines, Z, c_centers):\n",
    "    x1, x2, y1, y2 = cell\n",
    "    points_in_cell = X[(X[:, 0] >= x1) & (X[:, 0] <= x2) & (X[:, 1] >= y1) & (X[:, 1] <= y2)]\n",
    "    \n",
    "    threshold = ((delta)*opt) / pow(2, i)\n",
    "    print(\"Threshold value:\", round(threshold, 5), \"Points in cell:\", len(points_in_cell))\n",
    "    if len(points_in_cell) < threshold:\n",
    "        # If there are less than the threshold number of points, it's a light cell\n",
    "        # First time this is checked, it checks the grid g**i if it is light (step #3)\n",
    "        # Afterwards when it recurs it does step #3.4, marks c as a light cell and adds it to Z\n",
    "        # Also when it recurs it does step #3.5 here (delete c from Y) as the light cell c will no longer be recured\n",
    "        \n",
    "        if len(points_in_cell) >= 1: \n",
    "            #print(\"\\033[1m Points in light cell:\\n\", points_in_cell, \"\\033[0;0m\")\n",
    "            # If c is not empty (this already checks step #4)\n",
    "            Z.append(points_in_cell)\n",
    "            # Save the center coordinates for step #4.1\n",
    "            c_centers.append(((x1 + x2) / 2, (y1 + y2) / 2))\n",
    "    else: \n",
    "        #print(\"Current number of cells: \" + str(nr_of_cells))\n",
    "        # Cell counter, each time a cell gets split into 4 subcells the total increases by 3\n",
    "        nr_of_cells = nr_of_cells + 3\n",
    "\n",
    "        # The would-be number of cells if the below code executes\n",
    "        # Does not allow to create more subcells than cs\n",
    "        if i>=0 and len(points_in_cell)!=0:# and i >= np.log(delta * opt)+1: # and nr_of_cells <= cs:\n",
    "        \n",
    "            # Step #3.1 if c is heavy then: Split the cell\n",
    "            # First time this executes - only if g**i is heavy and splits it into 4 sub-cells c1, c2, c3, c4 (step #3)\n",
    "            # Afterwards the level of each cell goes to g**i-1, with side length 2**i-1 with each recursion\n",
    "            i = i - 1\n",
    "            mid_x = (x1 + x2) / 2\n",
    "            mid_y = (y1 + y2) / 2\n",
    "            \n",
    "            lines.append([\n",
    "                ((x1, mid_x), (y1, mid_y)),  # Top-left\n",
    "                ((mid_x, x2), (y1, mid_y)),  # Top-right\n",
    "                ((x1, mid_x), (mid_y, y2)),  # Bottom-left\n",
    "                ((mid_x, x2), (mid_y, y2))])  # Bottom-right\n",
    "            \n",
    "            cells = [\n",
    "                (x1, mid_x, y1, mid_y),  # Top-left\n",
    "                (mid_x, x2, y1, mid_y),  # Top-right\n",
    "                (x1, mid_x, mid_y, y2),  # Bottom-left\n",
    "                (mid_x, x2, mid_y, y2)   # Bottom-right\n",
    "            ]\n",
    "            # Step #3.2 and #3.3 as it implicitly adds c1, c2, c3, c4 to Y with each recursion below\n",
    "            for sub_cell in cells:\n",
    "                recursive_split(points_in_cell, sub_cell, k, d, eps, opt, n_initial, delta, nr_of_cells, cs, i, lines,\n",
    "                                Z, c_centers)\n",
    "    return Z, c_centers, lines"
   ]
  },
  {
   "cell_type": "code",
   "execution_count": null,
   "metadata": {},
   "outputs": [],
   "source": [
    "def coreset(Z, rep_c, delta, cs, eps):\n",
    "    \n",
    "    # rep_c = c_centers = representative center point of a cell\n",
    "    # n_c = number of  points in each cell\n",
    "    n_c = [len(c) for c in Z]\n",
    "    \n",
    "    # S = pairs respective center coordinates with number of points in each cell\n",
    "    S = []\n",
    "    for index in range(0, len(rep_c)):\n",
    "        S.append([rep_c[index], n_c[index]])\n",
    "    #print(rep_c, n_c)\n",
    "    if len(S) > cs*(1+eps) or len(S) == 0:\n",
    "        return None # failure indication\n",
    "    else:\n",
    "        return S"
   ]
  },
  {
   "cell_type": "code",
   "execution_count": null,
   "metadata": {},
   "outputs": [],
   "source": [
    "def coreset_construction(X, k, d, eps, n_initial):\n",
    "    \n",
    "    if X.size > 0: \n",
    "        print(\"The array is non-empty, proceeding with coreset construction algorithm\")\n",
    "        \n",
    "        # Step #1: Define the boundaries of the coordinate plane, at the start let Y be the only cell in grid g^(log(D))\n",
    "        x_min, x_max, y_min, y_max = min(X[:, 0]), max(X[:, 0]), min(X[:, 1]), max(X[:, 1])\n",
    "        Y = x_min, x_max, y_min, y_max\n",
    "        \n",
    "        # Calculate delta\n",
    "        #delta below 6 fails to construct coreset\n",
    "        delta = ( 1 / ( (4*k*np.sqrt(d)) * (np.log(n_initial)+1) ) )\n",
    "        if delta < 1: delta = 6\n",
    "        #delta = ( 1 / ( (4*k*np.sqrt(d)) * (np.log(n_initial)+1) ) ) * pow( ( eps / (14*np.sqrt(d)) ), d)\n",
    "        print(\"delta =\", round(delta, 4))\n",
    "        # Calculate coreset size\n",
    "        cs = math.ceil(2/delta + (np.log(n_initial) + 2) * k * pow(2, d))\n",
    "        print(\"cs =\", cs)\n",
    "        DELTA = 6 # take DELTA as an arbitrary constant, lets say 5\n",
    "        # Opt = number of guesses for opt approx., round up: log_base(1 + eps)(DELTA * n * sqrt(d))\n",
    "        Opt =  math.ceil((np.log(n_initial*6*np.sqrt(d))/np.log(1 + eps)))\n",
    "        print(\"Number of guesses for opt approximation =\", Opt)\n",
    "\n",
    "        for j in range(0, Opt):\n",
    "            print(\"\\nIteration j = \" + str(j) + \", with approximation Opt = (1+eps)^j = \" + str(pow((1+eps), j)) + \"\\n\")\n",
    "            \n",
    "            # Cell counter\n",
    "            nr_of_cells = 1\n",
    "            # i-th iteration tracking for recursive alg\n",
    "            i = DELTA\n",
    "            # Lines defining sub-cell boundries\n",
    "            lines = []\n",
    "            # Step #0: arr to store light cells c\n",
    "            Z = []\n",
    "            # Cell centers\n",
    "            c_centers = []\n",
    "\n",
    "            # Start the recursive splitting, here Opt = (1+eps)^j\n",
    "            Z, c_centers, lines = recursive_split(X, Y, k, d, eps, pow((1+eps), j), n_initial,\n",
    "                                                  delta, nr_of_cells, cs, i, lines, Z, c_centers)\n",
    "            # Start the coreset calculation\n",
    "            S = coreset(Z, c_centers, delta, cs, eps)\n",
    "                        \n",
    "            if S is not None:\n",
    "                print(\"\\n Coreset constructed: \\n\", S, \", of size:\", len(S))\n",
    "                \n",
    "                initial_bbox = [[x_min, y_min], [x_max, y_min], [x_max, y_max], [x_min, y_max], [x_min, y_min]]\n",
    "                visualize_splitting(Z, c_centers, lines, X, initial_bbox)\n",
    "                \n",
    "                return S\n",
    "        return \"Coreset could not be constructed\"\n",
    "    else:\n",
    "        return \"The array is empty.\""
   ]
  },
  {
   "cell_type": "code",
   "execution_count": null,
   "metadata": {
    "scrolled": true
   },
   "outputs": [],
   "source": [
    "S = coreset_construction(X, k, d, eps, n_initial)"
   ]
  },
  {
   "cell_type": "markdown",
   "metadata": {},
   "source": [
    "# K means for blobs"
   ]
  },
  {
   "cell_type": "code",
   "execution_count": null,
   "metadata": {},
   "outputs": [],
   "source": [
    "kmeans = KMeans(n_clusters=2, random_state=0)\n",
    "y_kmeans = kmeans.fit_predict(X)\n",
    "\n",
    "plt.scatter(X[:, 0], X[:, 1], c=y_kmeans, s=2, cmap='bwr')\n",
    "centers = kmeans.cluster_centers_\n",
    "plt.scatter(centers[:, 0], centers[:, 1], c='black', s=300, alpha=1, marker='X')\n",
    "plt.title('K-Means Clustering')\n",
    "plt.grid(which='major')\n",
    "\n",
    "x_ticks = [-1,2.5,6]\n",
    "plt.xticks(x_ticks)\n",
    "\n",
    "y_ticks = [2,5.5,9]\n",
    "plt.yticks(y_ticks)\n",
    "plt.show()\n",
    "\n",
    "plt.show()"
   ]
  },
  {
   "cell_type": "code",
   "execution_count": null,
   "metadata": {},
   "outputs": [],
   "source": [
    "silhouette_score = metrics.silhouette_score(X, y_kmeans)\n",
    "inertia = kmeans.inertia_\n",
    "\n",
    "print(f\"Silhouette Score: {silhouette_score}\") #how well-separated the clusters are\n",
    "print(f\"Inertia: {inertia}\") # how far the points within a cluster are from the center of that cluster."
   ]
  },
  {
   "cell_type": "markdown",
   "metadata": {},
   "source": [
    "# K means for coreset of blobs"
   ]
  },
  {
   "cell_type": "code",
   "execution_count": null,
   "metadata": {
    "scrolled": true
   },
   "outputs": [],
   "source": [
    "coordinates = np.array([item[0] for item in S])\n",
    "coreset_array = coordinates.reshape(-1, 2)\n",
    "coreset_array[0:5]"
   ]
  },
  {
   "cell_type": "code",
   "execution_count": null,
   "metadata": {},
   "outputs": [],
   "source": [
    "corekmeans = KMeans(n_clusters=2, random_state=0)\n",
    "y_corekmeans = corekmeans.fit_predict(coreset_array, sample_weight= [item[1] for item in S])\n",
    "\n",
    "plt.scatter(coreset_array[:, 0], coreset_array[:, 1], c=y_corekmeans, s=10, cmap='bwr')\n",
    "corecenters = corekmeans.cluster_centers_\n",
    "plt.scatter(corecenters[:, 0], corecenters[:, 1], c='black', s=300, alpha=0.8, marker='X')\n",
    "plt.title('K-Means Coreset Clustering')\n",
    "plt.grid(which='major')\n",
    "\n",
    "x_ticks = [-1,2.5,6]\n",
    "plt.xticks(x_ticks)\n",
    "\n",
    "y_ticks = [2,5.5,9]\n",
    "plt.yticks(y_ticks)\n",
    "plt.show()\n",
    "\n",
    "plt.show()"
   ]
  },
  {
   "cell_type": "code",
   "execution_count": null,
   "metadata": {},
   "outputs": [],
   "source": [
    "silhouette_score_core = metrics.silhouette_score(coreset_array, y_corekmeans)\n",
    "inertia_core = corekmeans.inertia_\n",
    "\n",
    "print(f\"Silhouette Score: {silhouette_score_core}\")\n",
    "print(f\"Inertia: {inertia_core}\")"
   ]
  },
  {
   "cell_type": "markdown",
   "metadata": {},
   "source": [
    "# Half circles (moons)"
   ]
  },
  {
   "cell_type": "code",
   "execution_count": null,
   "metadata": {},
   "outputs": [],
   "source": [
    "moons, moon_labels = sk.datasets.make_moons(n_samples=n, random_state=1, noise = 0.08)\n",
    "moons = moons.round(3)\n",
    "plt.scatter(moons[:, 0], moons[:, 1], c=moon_labels, cmap=\"bwr\", s=5)\n",
    "plt.grid(which='major');"
   ]
  },
  {
   "cell_type": "code",
   "execution_count": null,
   "metadata": {},
   "outputs": [],
   "source": [
    "S_moons = coreset_construction(moons, k, d, eps, len(moons)); "
   ]
  },
  {
   "cell_type": "markdown",
   "metadata": {},
   "source": [
    "# K means for moons"
   ]
  },
  {
   "cell_type": "code",
   "execution_count": null,
   "metadata": {},
   "outputs": [],
   "source": [
    "kmeans_moons = KMeans(n_clusters=2, random_state=0)\n",
    "y_kmeans_moons = kmeans_moons.fit_predict(moons)\n",
    "\n",
    "plt.scatter(moons[:, 0], moons[:, 1], c=y_kmeans_moons, s=2, cmap='bwr')\n",
    "centers_moons = kmeans_moons.cluster_centers_\n",
    "plt.scatter(centers_moons[:, 0], centers_moons[:, 1], c='black', s=300, alpha=0.8, marker='X')\n",
    "plt.title('K-Means Clustering')\n",
    "plt.grid(which='major')\n",
    "\n",
    "x_ticks = [-1,0.5,2]\n",
    "plt.xticks(x_ticks)\n",
    "\n",
    "y_ticks = [-0.75,0.25,1]\n",
    "plt.yticks(y_ticks)\n",
    "plt.show()"
   ]
  },
  {
   "cell_type": "code",
   "execution_count": null,
   "metadata": {},
   "outputs": [],
   "source": [
    "silhouette_score_moons = metrics.silhouette_score(moons, y_kmeans_moons)\n",
    "inertia_moons = kmeans_moons.inertia_\n",
    "\n",
    "print(f\"Silhouette Score: {silhouette_score_moons}\") #how well-separated the clusters are\n",
    "print(f\"Inertia: {inertia_moons}\") # how far the points within a cluster are from the center of that cluster."
   ]
  },
  {
   "cell_type": "markdown",
   "metadata": {},
   "source": [
    "# K means for coreset of moons"
   ]
  },
  {
   "cell_type": "code",
   "execution_count": null,
   "metadata": {},
   "outputs": [],
   "source": [
    "coordinates_moons = np.array([item[0] for item in S_moons])\n",
    "coreset_array_moons = coordinates_moons.reshape(-1, 2)\n",
    "coreset_array_moons[0:5]"
   ]
  },
  {
   "cell_type": "code",
   "execution_count": null,
   "metadata": {},
   "outputs": [],
   "source": [
    "corekmeans_moons = KMeans(n_clusters=2, random_state=0)\n",
    "y_corekmeans_moons = corekmeans_moons.fit_predict(coreset_array_moons, sample_weight= [item[1] for item in S_moons])\n",
    "\n",
    "plt.scatter(coreset_array_moons[:, 0], coreset_array_moons[:, 1], c=y_corekmeans_moons, s=10, cmap='bwr')\n",
    "corecenters_moons = corekmeans_moons.cluster_centers_\n",
    "plt.scatter(corecenters_moons[:, 0], corecenters_moons[:, 1], c='black', s=300, alpha=0.8, marker='X')\n",
    "plt.title('K-Means Coreset Clustering')\n",
    "plt.grid(which='major')\n",
    "\n",
    "x_ticks = [-1,0.5,2]\n",
    "plt.xticks(x_ticks)\n",
    "\n",
    "y_ticks = [-0.75,0.25,1]\n",
    "plt.yticks(y_ticks)\n",
    "plt.show()"
   ]
  },
  {
   "cell_type": "code",
   "execution_count": null,
   "metadata": {},
   "outputs": [],
   "source": [
    "silhouette_score_core_moons = metrics.silhouette_score(coreset_array_moons, y_corekmeans_moons)\n",
    "inertia_core_moons = corekmeans_moons.inertia_\n",
    "\n",
    "print(f\"Silhouette Score: {silhouette_score_core_moons}\") #how well-separated the clusters are\n",
    "print(f\"Inertia: {inertia_core_moons}\") # how far the points within a cluster are from the center of that cluster."
   ]
  },
  {
   "cell_type": "markdown",
   "metadata": {},
   "source": [
    "# Circles"
   ]
  },
  {
   "cell_type": "code",
   "execution_count": null,
   "metadata": {},
   "outputs": [],
   "source": [
    "circles, circles_labels = sk.datasets.make_circles(n_samples=n, random_state=1, noise = 0.07, factor=0.4)\n",
    "circles = circles.round(3)\n",
    "plt.scatter(circles[:, 0], circles[:, 1], c=circles_labels, cmap=\"bwr\", s=4)\n",
    "plt.grid(which='major');"
   ]
  },
  {
   "cell_type": "code",
   "execution_count": null,
   "metadata": {
    "scrolled": true
   },
   "outputs": [],
   "source": [
    "S_circles = coreset_construction(circles, k, d, eps, len(circles));"
   ]
  },
  {
   "cell_type": "markdown",
   "metadata": {},
   "source": [
    "# K means for circles"
   ]
  },
  {
   "cell_type": "code",
   "execution_count": null,
   "metadata": {},
   "outputs": [],
   "source": [
    "kmeans_circles = KMeans(n_clusters=2, random_state=0)\n",
    "y_kmeans_circles = kmeans_circles.fit_predict(circles)\n",
    "\n",
    "plt.scatter(circles[:, 0], circles[:, 1], c=y_kmeans_circles, s=2, cmap='bwr')\n",
    "centers_circles = kmeans_circles.cluster_centers_\n",
    "plt.scatter(centers_circles[:, 0], centers_circles[:, 1], c='black', s=300, alpha=0.8, marker='X')\n",
    "plt.title('K-Means Clustering')\n",
    "plt.grid(which='major')\n",
    "\n",
    "x_ticks = [-1,0,1]\n",
    "plt.xticks(x_ticks)\n",
    "\n",
    "y_ticks = [-1,0,1]\n",
    "plt.yticks(y_ticks)\n",
    "\n",
    "plt.show()"
   ]
  },
  {
   "cell_type": "code",
   "execution_count": null,
   "metadata": {},
   "outputs": [],
   "source": [
    "silhouette_score_circles = metrics.silhouette_score(circles, y_kmeans_circles)\n",
    "inertia_circles = kmeans_circles.inertia_\n",
    "\n",
    "print(f\"Silhouette Score: {silhouette_score_circles}\") #how well-separated the clusters are\n",
    "print(f\"Inertia: {inertia_circles}\") # how far the points within a cluster are from the center of that cluster."
   ]
  },
  {
   "cell_type": "markdown",
   "metadata": {},
   "source": [
    "# K means for coreset of circles"
   ]
  },
  {
   "cell_type": "code",
   "execution_count": null,
   "metadata": {},
   "outputs": [],
   "source": [
    "coordinates_circles = np.array([item[0] for item in S_circles])\n",
    "coreset_array_circles = coordinates_circles.reshape(-1, 2)\n",
    "coreset_array_circles[0:5]"
   ]
  },
  {
   "cell_type": "code",
   "execution_count": null,
   "metadata": {},
   "outputs": [],
   "source": [
    "corekmeans_circles = KMeans(n_clusters=2, random_state=0)\n",
    "y_corekmeans_circles = corekmeans_circles.fit_predict(coreset_array_circles, sample_weight= [item[1] for item in S_circles])\n",
    "\n",
    "plt.scatter(coreset_array_circles[:, 0], coreset_array_circles[:, 1], c=y_corekmeans_circles, s=10, cmap='bwr')\n",
    "corecenters_circles = corekmeans_circles.cluster_centers_\n",
    "plt.scatter(corecenters_circles[:, 0], corecenters_circles[:, 1], c='black', s=300, alpha=0.8, marker='X')\n",
    "plt.title('K-Means Coreset Clustering')\n",
    "plt.grid(which='major')\n",
    "\n",
    "x_ticks = [-1,0,1]\n",
    "plt.xticks(x_ticks)\n",
    "\n",
    "y_ticks = [-1,0,1]\n",
    "plt.yticks(y_ticks)\n",
    "\n",
    "plt.show()"
   ]
  },
  {
   "cell_type": "code",
   "execution_count": null,
   "metadata": {},
   "outputs": [],
   "source": [
    "silhouette_score_circles = metrics.silhouette_score(coreset_array_circles, y_corekmeans_circles)\n",
    "inertia_circles = corekmeans_circles.inertia_\n",
    "\n",
    "print(f\"Silhouette Score: {silhouette_score_circles}\") #how well-separated the clusters are\n",
    "print(f\"Inertia: {inertia_circles}\") # how far the points within a cluster are from the center of that cluster."
   ]
  },
  {
   "cell_type": "code",
   "execution_count": null,
   "metadata": {},
   "outputs": [],
   "source": [
    "fig, axs = plt.subplots(2, 3, figsize=(15, 10))\n",
    "axs = axs.ravel()\n",
    "x_range = (-0.3, 0.9)\n",
    "\n",
    "#blobs\n",
    "visualizer = SilhouetteVisualizer(kmeans, colors='yellowbrick', ax=axs[0],\n",
    "                                  title=f\"1. Blobs. Silhouette plot, KMeans n = {X.shape[0]}, k = {k}\")\n",
    "visualizer.fit(X)\n",
    "visualizer.finalize()\n",
    "axs[0].set_xlim(x_range)\n",
    "\n",
    "#blobs core\n",
    "visualizer = SilhouetteVisualizer(corekmeans, colors='yellowbrick', ax=axs[3],\n",
    "                                  title=f\"4. Blobs. Silhouette plot, KMeans cs = {coreset_array.shape[0]}, k = {k}\")\n",
    "visualizer.fit(coreset_array)\n",
    "visualizer.finalize()\n",
    "axs[3].set_xlim(x_range)\n",
    "\n",
    "#moons\n",
    "visualizer = SilhouetteVisualizer(kmeans_moons, colors='yellowbrick', ax=axs[1],\n",
    "                                  title=f\"2. Moons. Silhouette plot, KMeans n = {moons.shape[0]}, k = {k}\")\n",
    "visualizer.fit(moons)\n",
    "visualizer.finalize()\n",
    "axs[1].set_xlim(x_range)\n",
    "\n",
    "#moons core\n",
    "visualizer = SilhouetteVisualizer(corekmeans_moons, colors='yellowbrick', ax=axs[4],\n",
    "                                  title=f\"5. Moons. Silhouette plot, KMeans cs = {coreset_array_moons.shape[0]}, k = {k}\")\n",
    "visualizer.fit(coreset_array_moons)\n",
    "visualizer.finalize()\n",
    "axs[4].set_xlim(x_range)\n",
    "\n",
    "#circles\n",
    "visualizer = SilhouetteVisualizer(kmeans_moons, colors='yellowbrick', ax=axs[2],\n",
    "                                  title=f\"3. Circles. Silhouette plot, KMeans n = {circles.shape[0]}, k = {k}\")\n",
    "visualizer.fit(circles)\n",
    "visualizer.finalize()\n",
    "axs[2].set_xlim(x_range)\n",
    "\n",
    "#circles core\n",
    "visualizer = SilhouetteVisualizer(corekmeans_circles, colors='yellowbrick', ax=axs[5],\n",
    "                                  title=f\"6. Circles. Silhouette plot, KMeans cs = {coreset_array_circles.shape[0]}, k = {k}\")\n",
    "visualizer.fit(coreset_array_circles)\n",
    "visualizer.finalize()\n",
    "axs[5].set_xlim(x_range)\n",
    "\n",
    "fig.suptitle(f'n = {n}', fontsize=14)\n",
    "plt.tight_layout()\n",
    "plt.show()"
   ]
  }
 ],
 "metadata": {
  "kernelspec": {
   "display_name": "Python 3 (ipykernel)",
   "language": "python",
   "name": "python3"
  },
  "language_info": {
   "codemirror_mode": {
    "name": "ipython",
    "version": 3
   },
   "file_extension": ".py",
   "mimetype": "text/x-python",
   "name": "python",
   "nbconvert_exporter": "python",
   "pygments_lexer": "ipython3",
   "version": "3.8.8"
  }
 },
 "nbformat": 4,
 "nbformat_minor": 1
}
